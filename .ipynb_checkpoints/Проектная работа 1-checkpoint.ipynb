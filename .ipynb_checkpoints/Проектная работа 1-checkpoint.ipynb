{
 "cells": [
  {
   "cell_type": "markdown",
   "metadata": {
    "id": "E0vqbgi9ay0H"
   },
   "source": [
    "# Яндекс.Музыка"
   ]
  },
  {
   "cell_type": "markdown",
   "metadata": {},
   "source": [
    "<div style=\"border:solid blue 2px; padding: 20px\">\n",
    "Привет Александр! Меня зовут Андрей Петрушин, я буду проверять твой проект. Предлагаю общаться на «ты», это упрощает коммуникацию :) Но если это некомфортно - можем перейти на “Вы”.\n",
    "\n",
    "Вижу, что проделана большая работа над проектом и он выполнен на хорошем уровне. Моя основная цель при проверке работы — помочь сделать проект лучше и возможно, поделиться своим опытом решения подобных задач.\n",
    "\n",
    "Я буду делать комментарии тремя цветами:\n",
    "    \n",
    "<font color=\"green\">✔️ Комментарий ревьювера  \n",
    "зеленый текст - все отлично, хорошее решение</font>\n",
    "    \n",
    "<font color=\"brown\">⚠️ Комментарий ревьювера  \n",
    "Коричневый текст - есть рекомендации, в другой раз можно сделать иначе</font>\n",
    "    \n",
    "<font color=\"red\">❌ Комментарий ревьювера   \n",
    "красный текст - есть недочеты, их нужно исправить и проект будет принят</font>\n",
    "    \n",
    "Пожалуйста, не удаляй мои комментарии, нам обоим будет проще разобраться в недочетах, что и как исправлено. Свои комментарии тоже отмечай, например другим цветом или надписью “Комментарий студента”. \n",
    "\n",
    "    \n",
    "\\<font color='darkblue'> Этот код позволяет менять цвет текста. \\</font>\n",
    "</div>\n",
    "\n",
    "<font color='orange'> Привет Андрей! Очень приятно! Договорились, общаемся на \"ты\" и я буду писать оранжевым :). \\</font>\n",
    "</div>"
   ]
  },
  {
   "cell_type": "markdown",
   "metadata": {
    "id": "VUC88oWjTJw2"
   },
   "source": [
    "Сравнение Москвы и Петербурга окружено мифами. Например:\n",
    " * Москва — мегаполис, подчинённый жёсткому ритму рабочей недели;\n",
    " * Петербург — культурная столица, со своими вкусами.\n",
    "\n",
    "На данных Яндекс.Музыки вы сравните поведение пользователей двух столиц.\n",
    "\n",
    "**Цель исследования** — проверьте три гипотезы:\n",
    "1. Активность пользователей зависит от дня недели. Причём в Москве и Петербурге это проявляется по-разному.\n",
    "2. В понедельник утром в Москве преобладают одни жанры, а в Петербурге — другие. Так же и вечером пятницы преобладают разные жанры — в зависимости от города. \n",
    "3. Москва и Петербург предпочитают разные жанры музыки. В Москве чаще слушают поп-музыку, в Петербурге — русский рэп.\n",
    "\n",
    "**Ход исследования**\n",
    "\n",
    "Данные о поведении пользователей вы получите из файла `yandex_music_project.csv`. О качестве данных ничего не известно. Поэтому перед проверкой гипотез понадобится обзор данных. \n",
    "\n",
    "Вы проверите данные на ошибки и оцените их влияние на исследование. Затем, на этапе предобработки вы поищете возможность исправить самые критичные ошибки данных.\n",
    " \n",
    "Таким образом, исследование пройдёт в три этапа:\n",
    " 1. Обзор данных.\n",
    " 2. Предобработка данных.\n",
    " 3. Проверка гипотез.\n",
    "\n"
   ]
  },
  {
   "cell_type": "markdown",
   "metadata": {},
   "source": [
    "<font color=\"green\">✔️ Комментарий ревьювера    \n",
    "Разместить в начале проекта его описание и план работ - отличная практика!</font>\n"
   ]
  },
  {
   "cell_type": "markdown",
   "metadata": {
    "id": "Ml1hmfXC_Zcs"
   },
   "source": [
    "## Обзор данных\n",
    "\n",
    "Составьте первое представление о данных Яндекс.Музыки.\n",
    "\n",
    "\n"
   ]
  },
  {
   "cell_type": "markdown",
   "metadata": {
    "id": "57eAOGIz_Zcs"
   },
   "source": [
    "Основной инструмент аналитика — `pandas`. Импортируйте эту библиотеку."
   ]
  },
  {
   "cell_type": "code",
   "execution_count": 1,
   "metadata": {
    "id": "AXN7PHPN_Zcs"
   },
   "outputs": [],
   "source": [
    "# импорт библиотеки pandas\n",
    "import pandas as pd"
   ]
  },
  {
   "cell_type": "markdown",
   "metadata": {},
   "source": [
    "<font color=\"green\">✔️ Комментарий ревьювера    \n",
    "Очень здорово, что ты используешь сокращение pd для Pandas, это общепринятое сокращение для этой библиотеки для удобной дальнейшей работы.</font>"
   ]
  },
  {
   "cell_type": "markdown",
   "metadata": {
    "id": "SG23P8tt_Zcs"
   },
   "source": [
    "Прочитайте файл `yandex_music_project.csv` из папки `/datasets` и сохраните его в переменной `df`:"
   ]
  },
  {
   "cell_type": "code",
   "execution_count": 2,
   "metadata": {
    "id": "fFVu7vqh_Zct"
   },
   "outputs": [],
   "source": [
    "# чтение файла с данными и сохранение в df\n",
    "df=pd.read_csv('yandex_music_project.csv')"
   ]
  },
  {
   "cell_type": "markdown",
   "metadata": {},
   "source": [
    "<font color=\"green\">✔️ Комментарий ревьювера     \n",
    "Верно, указан правильный путь к файлу: слэш в начале пути очень важен, так как указывает, что нужно искать файл в корневой папке.</font>\n"
   ]
  },
  {
   "cell_type": "markdown",
   "metadata": {
    "id": "rDoOMd3uTqnZ"
   },
   "source": [
    "Выведите на экран первые десять строк таблицы:"
   ]
  },
  {
   "cell_type": "code",
   "execution_count": 3,
   "metadata": {
    "id": "oWTVX3gW_Zct"
   },
   "outputs": [
    {
     "name": "stdout",
     "output_type": "stream",
     "text": [
      "     userID                        Track            artist   genre  \\\n",
      "0  FFB692EC            Kamigata To Boots  The Mass Missile    rock   \n",
      "1  55204538  Delayed Because of Accident  Andreas Rönnberg    rock   \n",
      "2    20EC38            Funiculì funiculà       Mario Lanza     pop   \n",
      "3  A3DD03C9        Dragons in the Sunset        Fire + Ice    folk   \n",
      "4  E2DC1FAE                  Soul People        Space Echo   dance   \n",
      "5  842029A1                    Преданная         IMPERVTOR  rusrap   \n",
      "6  4CB90AA5                         True      Roman Messer   dance   \n",
      "7  F03E1C1F             Feeling This Way   Polina Griffith   dance   \n",
      "8  8FA1D3BE     И вновь продолжается бой               NaN  ruspop   \n",
      "9  E772D5C0                    Pessimist               NaN   dance   \n",
      "\n",
      "             City        time        Day  \n",
      "0  Saint-Petersburg  20:28:33  Wednesday  \n",
      "1            Moscow  14:07:09     Friday  \n",
      "2  Saint-Petersburg  20:58:07  Wednesday  \n",
      "3  Saint-Petersburg  08:37:09     Monday  \n",
      "4            Moscow  08:34:34     Monday  \n",
      "5  Saint-Petersburg  13:09:41     Friday  \n",
      "6            Moscow  13:00:07  Wednesday  \n",
      "7            Moscow  20:47:49  Wednesday  \n",
      "8            Moscow  09:17:40     Friday  \n",
      "9  Saint-Petersburg  21:20:49  Wednesday  \n"
     ]
    }
   ],
   "source": [
    "# получение первых 10 строк таблицы df\n",
    "print (df.head(10))"
   ]
  },
  {
   "cell_type": "markdown",
   "metadata": {},
   "source": [
    "<font color=\"green\">✔️ Комментарий ревьювера       \n",
    "Все верно, если нам нужно посмотреть больше 5 строк, в head() можно указать, сколько строк мы выводим.\n",
    "Иногда бывает нужно посмотреть последние строки датафрейма, тогда мы используем tail() (Как хвост по-английски)  \n",
    "Результат функции будет выведен, даже без использования print() или display() </font>\n"
   ]
  },
  {
   "cell_type": "markdown",
   "metadata": {
    "id": "EO73Kwic_Zct"
   },
   "source": [
    "Одной командой получить общую информацию о таблице:"
   ]
  },
  {
   "cell_type": "code",
   "execution_count": 4,
   "metadata": {
    "id": "DSf2kIb-_Zct"
   },
   "outputs": [
    {
     "name": "stdout",
     "output_type": "stream",
     "text": [
      "<class 'pandas.core.frame.DataFrame'>\n",
      "RangeIndex: 65079 entries, 0 to 65078\n",
      "Data columns (total 7 columns):\n",
      " #   Column    Non-Null Count  Dtype \n",
      "---  ------    --------------  ----- \n",
      " 0     userID  65079 non-null  object\n",
      " 1   Track     63848 non-null  object\n",
      " 2   artist    57876 non-null  object\n",
      " 3   genre     63881 non-null  object\n",
      " 4     City    65079 non-null  object\n",
      " 5   time      65079 non-null  object\n",
      " 6   Day       65079 non-null  object\n",
      "dtypes: object(7)\n",
      "memory usage: 3.5+ MB\n"
     ]
    }
   ],
   "source": [
    "# получение общей информации о данных в таблице df\n",
    "df.info ()"
   ]
  },
  {
   "cell_type": "markdown",
   "metadata": {},
   "source": [
    "<font color=\"green\">Комментарий ревьювера        \n",
    "✔️ Отлично. Здесь можно не использовать функцию print() для вывода - ведь это последняя строчка ячейки</font><br>\n"
   ]
  },
  {
   "cell_type": "markdown",
   "metadata": {
    "id": "TaQ2Iwbr_Zct"
   },
   "source": [
    "Итак, в таблице семь столбцов. Тип данных во всех столбцах — `object`.\n",
    "\n",
    "Согласно документации к данным:\n",
    "* `userID` — идентификатор пользователя;\n",
    "* `Track` — название трека;  \n",
    "* `artist` — имя исполнителя;\n",
    "* `genre` — название жанра;\n",
    "* `City` — город пользователя;\n",
    "* `time` — время начала прослушивания;\n",
    "* `Day` — день недели.\n",
    "\n",
    "В названиях колонок видны три нарушения стиля:\n",
    "1. Строчные буквы сочетаются с прописными.\n",
    "2. Встречаются пробелы.\n",
    "3. Найдите ещё одну проблему в названии колонок и опишите её в этом пункте.\n",
    "\n",
    "**Ответ ученика: в строке идентификатора пользователя не хватает пробела, разделяющего слова (перед ID), прописанного через нижнее подчеркивание**\n",
    "\n",
    "\n",
    "\n",
    "Количество значений в столбцах различается. Значит, в данных есть пропущенные значения.\n"
   ]
  },
  {
   "cell_type": "markdown",
   "metadata": {},
   "source": [
    "<font color=\"green\">✔️ Комментарий ревьювера      \n",
    "Абсолютно правильный ответ на вопрос задания. </font>\n"
   ]
  },
  {
   "cell_type": "markdown",
   "metadata": {
    "id": "MCB6-dXG_Zct"
   },
   "source": [
    "**Выводы**\n",
    "\n",
    "В каждой строке таблицы — данные о прослушанном треке. Часть колонок описывает саму композицию: название, исполнителя и жанр. Остальные данные рассказывают о пользователе: из какого он города, когда он слушал музыку. \n",
    "\n",
    "Предварительно можно утверждать, что, данных достаточно для проверки гипотез. Но встречаются пропуски в данных, а в названиях колонок — расхождения с хорошим стилем.\n",
    "\n",
    "Чтобы двигаться дальше, нужно устранить проблемы в данных."
   ]
  },
  {
   "cell_type": "markdown",
   "metadata": {
    "id": "SjYF6Ub9_Zct"
   },
   "source": [
    "## Предобработка данных\n",
    "Исправьте стиль в заголовках столбцов, исключите пропуски. Затем проверьте данные на дубликаты."
   ]
  },
  {
   "cell_type": "markdown",
   "metadata": {
    "id": "dIaKXr29_Zct"
   },
   "source": [
    "### Стиль заголовков\n",
    "Выведите на экран названия столбцов:"
   ]
  },
  {
   "cell_type": "code",
   "execution_count": 5,
   "metadata": {
    "id": "oKOTdF_Q_Zct"
   },
   "outputs": [
    {
     "data": {
      "text/plain": [
       "Index(['  userID', 'Track', 'artist', 'genre', '  City  ', 'time', 'Day'], dtype='object')"
      ]
     },
     "execution_count": 5,
     "metadata": {},
     "output_type": "execute_result"
    }
   ],
   "source": [
    "# перечень названий столбцов таблицы df\n",
    "df.columns"
   ]
  },
  {
   "cell_type": "markdown",
   "metadata": {
    "id": "zj5534cv_Zct"
   },
   "source": [
    "Приведите названия в соответствие с хорошим стилем:\n",
    "* несколько слов в названии запишите в «змеином_регистре»,\n",
    "* все символы сделайте строчными,\n",
    "* устраните пробелы.\n",
    "\n",
    "Для этого переименуйте колонки так:\n",
    "* `'  userID'` → `'user_id'`;\n",
    "* `'Track'` → `'track'`;\n",
    "* `'  City  '` → `'city'`;\n",
    "* `'Day'` → `'day'`."
   ]
  },
  {
   "cell_type": "code",
   "execution_count": 6,
   "metadata": {
    "id": "ISlFqs5y_Zct"
   },
   "outputs": [],
   "source": [
    "# переименование столбцов\n",
    "df = df.rename(\n",
    "    columns={\n",
    "        '  userID' : 'user_id',\n",
    "        'Track' : 'track',\n",
    "        '  City  ' : 'city',\n",
    "        'Day' : 'day'\n",
    "}\n",
    ")"
   ]
  },
  {
   "cell_type": "markdown",
   "metadata": {},
   "source": [
    "<font color=\"green\">✔️ Комментарий ревьювера      \n",
    "Хороший выбор метода - rename() сработает без ошибок, даже если изменится порядок столбцов.</font>\n"
   ]
  },
  {
   "cell_type": "markdown",
   "metadata": {
    "id": "1dqbh00J_Zct"
   },
   "source": [
    "Проверьте результат. Для этого ещё раз выведите на экран названия столбцов:"
   ]
  },
  {
   "cell_type": "code",
   "execution_count": 7,
   "metadata": {
    "id": "d4NOAmTW_Zct"
   },
   "outputs": [
    {
     "data": {
      "text/plain": [
       "Index(['user_id', 'track', 'artist', 'genre', 'city', 'time', 'day'], dtype='object')"
      ]
     },
     "execution_count": 7,
     "metadata": {},
     "output_type": "execute_result"
    }
   ],
   "source": [
    "# проверка результатов - перечень названий столбцов\n",
    "df.columns"
   ]
  },
  {
   "cell_type": "markdown",
   "metadata": {
    "id": "5ISfbcfY_Zct"
   },
   "source": [
    "### Пропуски значений\n",
    "Сначала посчитайте, сколько в таблице пропущенных значений. Для этого достаточно двух методов `pandas`:"
   ]
  },
  {
   "cell_type": "code",
   "execution_count": 8,
   "metadata": {
    "id": "RskX29qr_Zct"
   },
   "outputs": [
    {
     "data": {
      "text/plain": [
       "user_id       0\n",
       "track      1231\n",
       "artist     7203\n",
       "genre      1198\n",
       "city          0\n",
       "time          0\n",
       "day           0\n",
       "dtype: int64"
      ]
     },
     "metadata": {},
     "output_type": "display_data"
    }
   ],
   "source": [
    "# подсчёт пропусков методом isna:\n",
    "display(df.isna().sum())"
   ]
  },
  {
   "cell_type": "markdown",
   "metadata": {},
   "source": [
    "<font color=\"green\">✔️ Комментарий ревьювера      \n",
    "Метод isna() для нахождения пропущенных значений - это отлично! На самом деле, isnull() и isna() делают одно и то же, но использование isna() предпочтительнее.</font>\n"
   ]
  },
  {
   "cell_type": "markdown",
   "metadata": {
    "id": "qubhgnlO_Zct"
   },
   "source": [
    "Не все пропущенные значения влияют на исследование. Так в `track` и `artist` пропуски не важны для вашей работы. Достаточно заменить их явными обозначениями.\n",
    "\n",
    "Но пропуски в `genre` могут помешать сравнению музыкальных вкусов в Москве и Санкт-Петербурге. На практике было бы правильно установить причину пропусков и восстановить данные. Такой возможности нет в учебном проекте. Придётся:\n",
    "* заполнить и эти пропуски явными обозначениями,\n",
    "* оценить, насколько они повредят расчётам. "
   ]
  },
  {
   "cell_type": "markdown",
   "metadata": {
    "id": "fSv2laPA_Zct"
   },
   "source": [
    "Замените пропущенные значения в столбцах `track`, `artist` и `genre` на строку `'unknown'`. Для этого создайте список `columns_to_replace`, переберите его элементы циклом `for` и для каждого столбца выполните замену пропущенных значений:"
   ]
  },
  {
   "cell_type": "code",
   "execution_count": 9,
   "metadata": {
    "id": "KplB5qWs_Zct"
   },
   "outputs": [],
   "source": [
    "# перебор названий столбцов в цикле и замена пропущенных значений на 'unknown'\n",
    "columns_to_replace=['track', 'artist' , 'genre']\n",
    "for column in columns_to_replace:\n",
    "    df[column]=df[column].fillna('unknown')"
   ]
  },
  {
   "cell_type": "markdown",
   "metadata": {},
   "source": [
    "<font color=\"green\">✔️ Комментарий ревьювера      \n",
    "Список columns_to_replace сформирован верно, цикл отработал без ошибок.</font>\n"
   ]
  },
  {
   "cell_type": "markdown",
   "metadata": {
    "id": "Ilsm-MZo_Zct"
   },
   "source": [
    "Убедитесь, что в таблице не осталось пропусков. Для этого ещё раз посчитайте пропущенные значения."
   ]
  },
  {
   "cell_type": "code",
   "execution_count": 10,
   "metadata": {
    "id": "Tq4nYRX4_Zct"
   },
   "outputs": [
    {
     "data": {
      "text/plain": [
       "user_id    0\n",
       "track      0\n",
       "artist     0\n",
       "genre      0\n",
       "city       0\n",
       "time       0\n",
       "day        0\n",
       "dtype: int64"
      ]
     },
     "metadata": {},
     "output_type": "display_data"
    }
   ],
   "source": [
    "# подсчёт пропусков методом isna:\n",
    "display(df.isna().sum())"
   ]
  },
  {
   "cell_type": "markdown",
   "metadata": {
    "id": "BWKRtBJ3_Zct"
   },
   "source": [
    "### Дубликаты\n",
    "Посчитайте явные дубликаты в таблице одной командой:"
   ]
  },
  {
   "cell_type": "code",
   "execution_count": 11,
   "metadata": {
    "id": "36eES_S0_Zct"
   },
   "outputs": [
    {
     "name": "stdout",
     "output_type": "stream",
     "text": [
      "Явных дубликатов в таблице:  3826\n"
     ]
    }
   ],
   "source": [
    "# подсчёт явных дубликатов\n",
    "print (\"Явных дубликатов в таблице: \", df.duplicated().sum())"
   ]
  },
  {
   "cell_type": "markdown",
   "metadata": {
    "id": "Ot25h6XR_Zct"
   },
   "source": [
    "Вызовите специальный метод `pandas`, чтобы удалить явные дубликаты:"
   ]
  },
  {
   "cell_type": "code",
   "execution_count": 12,
   "metadata": {
    "id": "exFHq6tt_Zct"
   },
   "outputs": [],
   "source": [
    "# удаление явных дубликатов (с удалением старых индексов и формированием новых)\n",
    "df=df.drop_duplicates().reset_index(drop=True)"
   ]
  },
  {
   "cell_type": "markdown",
   "metadata": {},
   "source": [
    "<font color=\"green\">✔️ Комментарий ревьювера      \n",
    "Верно, хорошо что помнишь про reset_index(drop=True). Дубликаты найдены и обезврежены :)</font>"
   ]
  },
  {
   "cell_type": "markdown",
   "metadata": {
    "id": "Im2YwBEG_Zct"
   },
   "source": [
    "Ещё раз посчитайте явные дубликаты в таблице — убедитесь, что полностью от них избавились:"
   ]
  },
  {
   "cell_type": "code",
   "execution_count": 13,
   "metadata": {
    "id": "-8PuNWQ0_Zct"
   },
   "outputs": [
    {
     "name": "stdout",
     "output_type": "stream",
     "text": [
      "Явных дубликатов в таблице, после удаления:  0\n"
     ]
    }
   ],
   "source": [
    "# проверка на отсутствие дубликатов\n",
    "print (\"Явных дубликатов в таблице, после удаления: \", df.duplicated().sum())"
   ]
  },
  {
   "cell_type": "markdown",
   "metadata": {
    "id": "QlFBsxAr_Zct"
   },
   "source": [
    "Теперь избавьтесь от неявных дубликатов в колонке `genre`. Например, название одного и того же жанра может быть записано немного по-разному. Такие ошибки тоже повлияют на результат исследования."
   ]
  },
  {
   "cell_type": "markdown",
   "metadata": {
    "id": "eSjWwsOh_Zct"
   },
   "source": [
    "Выведите на экран список уникальных названий жанров, отсортированный в алфавитном порядке. Для этого:\n",
    "* извлеките нужный столбец датафрейма, \n",
    "* примените к нему метод сортировки,\n",
    "* для отсортированного столбца вызовите метод, который вернёт уникальные значения из столбца."
   ]
  },
  {
   "cell_type": "code",
   "execution_count": 14,
   "metadata": {
    "id": "JIUcqzZN_Zct"
   },
   "outputs": [
    {
     "name": "stdout",
     "output_type": "stream",
     "text": [
      "['acid' 'acoustic' 'action' 'adult' 'africa' 'afrikaans' 'alternative'\n",
      " 'alternativepunk' 'ambient' 'americana' 'animated' 'anime' 'arabesk'\n",
      " 'arabic' 'arena' 'argentinetango' 'art' 'audiobook' 'author' 'avantgarde'\n",
      " 'axé' 'baile' 'balkan' 'beats' 'bigroom' 'black' 'bluegrass' 'blues'\n",
      " 'bollywood' 'bossa' 'brazilian' 'breakbeat' 'breaks' 'broadway'\n",
      " 'cantautori' 'cantopop' 'canzone' 'caribbean' 'caucasian' 'celtic'\n",
      " 'chamber' 'chanson' 'children' 'chill' 'chinese' 'choral' 'christian'\n",
      " 'christmas' 'classical' 'classicmetal' 'club' 'colombian' 'comedy'\n",
      " 'conjazz' 'contemporary' 'country' 'cuban' 'dance' 'dancehall' 'dancepop'\n",
      " 'dark' 'death' 'deep' 'deutschrock' 'deutschspr' 'dirty' 'disco' 'dnb'\n",
      " 'documentary' 'downbeat' 'downtempo' 'drum' 'dub' 'dubstep' 'eastern'\n",
      " 'easy' 'electronic' 'electropop' 'emo' 'entehno' 'epicmetal' 'estrada'\n",
      " 'ethnic' 'eurofolk' 'european' 'experimental' 'extrememetal' 'fado'\n",
      " 'fairytail' 'film' 'fitness' 'flamenco' 'folk' 'folklore' 'folkmetal'\n",
      " 'folkrock' 'folktronica' 'forró' 'frankreich' 'französisch' 'french'\n",
      " 'funk' 'future' 'gangsta' 'garage' 'german' 'ghazal' 'gitarre' 'glitch'\n",
      " 'gospel' 'gothic' 'grime' 'grunge' 'gypsy' 'handsup' \"hard'n'heavy\"\n",
      " 'hardcore' 'hardstyle' 'hardtechno' 'hip' 'hip-hop' 'hiphop' 'historisch'\n",
      " 'holiday' 'hop' 'horror' 'house' 'hymn' 'idm' 'independent' 'indian'\n",
      " 'indie' 'indipop' 'industrial' 'inspirational' 'instrumental'\n",
      " 'international' 'irish' 'jam' 'japanese' 'jazz' 'jewish' 'jpop' 'jungle'\n",
      " 'k-pop' 'karadeniz' 'karaoke' 'kayokyoku' 'korean' 'laiko' 'latin'\n",
      " 'latino' 'leftfield' 'local' 'lounge' 'loungeelectronic' 'lovers'\n",
      " 'malaysian' 'mandopop' 'marschmusik' 'meditative' 'mediterranean'\n",
      " 'melodic' 'metal' 'metalcore' 'mexican' 'middle' 'minimal'\n",
      " 'miscellaneous' 'modern' 'mood' 'mpb' 'muslim' 'native' 'neoklassik'\n",
      " 'neue' 'new' 'newage' 'newwave' 'nu' 'nujazz' 'numetal' 'oceania' 'old'\n",
      " 'opera' 'orchestral' 'other' 'piano' 'podcasts' 'pop' 'popdance'\n",
      " 'popelectronic' 'popeurodance' 'poprussian' 'post' 'posthardcore'\n",
      " 'postrock' 'power' 'progmetal' 'progressive' 'psychedelic' 'punjabi'\n",
      " 'punk' 'quebecois' 'ragga' 'ram' 'rancheras' 'rap' 'rave' 'reggae'\n",
      " 'reggaeton' 'regional' 'relax' 'religious' 'retro' 'rhythm' 'rnb' 'rnr'\n",
      " 'rock' 'rockabilly' 'rockalternative' 'rockindie' 'rockother' 'romance'\n",
      " 'roots' 'ruspop' 'rusrap' 'rusrock' 'russian' 'salsa' 'samba' 'scenic'\n",
      " 'schlager' 'self' 'sertanejo' 'shanson' 'shoegazing' 'showtunes' 'singer'\n",
      " 'ska' 'skarock' 'slow' 'smooth' 'soft' 'soul' 'soulful' 'sound'\n",
      " 'soundtrack' 'southern' 'specialty' 'speech' 'spiritual' 'sport'\n",
      " 'stonerrock' 'surf' 'swing' 'synthpop' 'synthrock' 'sängerportrait'\n",
      " 'tango' 'tanzorchester' 'taraftar' 'tatar' 'tech' 'techno' 'teen'\n",
      " 'thrash' 'top' 'traditional' 'tradjazz' 'trance' 'tribal' 'trip'\n",
      " 'triphop' 'tropical' 'türk' 'türkçe' 'ukrrock' 'unknown' 'urban' 'uzbek'\n",
      " 'variété' 'vi' 'videogame' 'vocal' 'western' 'world' 'worldbeat' 'ïîï'\n",
      " 'электроника']\n"
     ]
    }
   ],
   "source": [
    "# Просмотр уникальных названий жанров\n",
    "total_genres_sorted=df['genre'].sort_values().unique()\n",
    "print (total_genres_sorted)\n",
    "\n"
   ]
  },
  {
   "cell_type": "markdown",
   "metadata": {},
   "source": [
    "<font color=\"red\">❌ Комментарий ревьювера   \n",
    "Почти верно, но  прочти еще раз задание - там просили еще и сортировку :)</font>\n",
    "\n",
    "<font color='orange'> Спасибо, пропустил. Так гораздо лучше. И видно кучу других мусорных категорий. Я их тоже подчищу, через пару блоков. \\</font>\n",
    "\n",
    "<font color=\"green\">✔️ Комментарий ревьювера 2      \n",
    "Хорошо</font>\n"
   ]
  },
  {
   "cell_type": "markdown",
   "metadata": {
    "id": "qej-Qmuo_Zct"
   },
   "source": [
    "Просмотрите список и найдите неявные дубликаты названия `hiphop`. Это могут быть названия с ошибками или альтернативные названия того же жанра.\n",
    "\n",
    "Вы увидите следующие неявные дубликаты:\n",
    "* *hip*,\n",
    "* *hop*,\n",
    "* *hip-hop*.\n",
    "\n",
    "Чтобы очистить от них таблицу, напишите функцию `replace_wrong_genres()` с двумя параметрами: \n",
    "* `wrong_genres` — список дубликатов,\n",
    "* `correct_genre` — строка с правильным значением.\n",
    "\n",
    "Функция должна исправить колонку `genre` в таблице `df`: заменить каждое значение из списка `wrong_genres` на значение из `correct_genre`."
   ]
  },
  {
   "cell_type": "code",
   "execution_count": 15,
   "metadata": {
    "id": "ErNDkmns_Zct"
   },
   "outputs": [],
   "source": [
    "# Функция для замены неявных дубликатов\n",
    "\n",
    "def replace_wrong_genres(wrong_genres, correct_genre): #создание функции\n",
    "    for number in wrong_genres: # цикл с перебором неправильных значений\n",
    "        df['genre'] = df['genre'].replace(number, correct_genre) \n",
    "        # если значение совпало с неверным - заменяем на верное прямо в исходном df\n"
   ]
  },
  {
   "cell_type": "markdown",
   "metadata": {},
   "source": [
    "<font color=\"green\">Комментарий ревьювера      \n",
    "✔️ Все верно! </font>\n"
   ]
  },
  {
   "cell_type": "markdown",
   "metadata": {
    "id": "aDoBJxbA_Zct"
   },
   "source": [
    "Вызовите `replace_wrong_genres()` и передайте ей такие аргументы, чтобы она устранила неявные дубликаты: вместо `hip`, `hop` и `hip-hop` в таблице должно быть значение `hiphop`:"
   ]
  },
  {
   "cell_type": "code",
   "execution_count": 16,
   "metadata": {
    "id": "YN5i2hpmSo09"
   },
   "outputs": [],
   "source": [
    "# Устранение неявных дубликатов\n",
    "#wrong_names = ['hip', 'hop', 'hip-hop'] # старый код, исключенный по замечаниям\n",
    "#correct_name = 'hiphop' # старый код, исключенный по замечаниям\n",
    "replace_wrong_genres(['hip', 'hop', 'hip-hop'], 'hiphop') # удаление неявных дубликатов\n",
    "\n",
    "# ниже подчищаю пару лишних категорий, что бросились в глаза после сортировки, но не указаны в текстовке к заданию.\n",
    "df['genre'] = df['genre'].replace('электроника', 'electronic') \n",
    "df['genre'] = df['genre'].replace('ïîï', 'unknown') \n",
    "df['genre'] = df['genre'].replace('vi', 'videogame') \n"
   ]
  },
  {
   "cell_type": "markdown",
   "metadata": {
    "id": "zQKF16_RG15m"
   },
   "source": [
    "Проверьте, что заменили неправильные названия:\n",
    "\n",
    "*   hip\n",
    "*   hop\n",
    "*   hip-hop\n",
    "\n",
    "Выведите отсортированный список уникальных значений столбца `genre`:"
   ]
  },
  {
   "cell_type": "markdown",
   "metadata": {},
   "source": [
    "<font color=\"brown\">⚠️ Комментарий ревьювера   \n",
    " Все верно. Маленькое замечание - в питоне часто не нужно создавать временные переменные, можно записывать значения прямо в функции, например, replace_wrong_genres(['hip', 'hop', 'hip-hop'], 'hiphop')</font>\n",
    " \n",
    "<font color='orange'> Спасибо, подправил. Буду иметь в виду!</font>   \n",
    "\n",
    "<font color=\"green\">✔️ Комментарий ревьювера 2      \n",
    "Хорошо</font>"
   ]
  },
  {
   "cell_type": "code",
   "execution_count": 17,
   "metadata": {
    "id": "wvixALnFG15m"
   },
   "outputs": [
    {
     "data": {
      "text/plain": [
       "array(['acid', 'acoustic', 'action', 'adult', 'africa', 'afrikaans',\n",
       "       'alternative', 'alternativepunk', 'ambient', 'americana',\n",
       "       'animated', 'anime', 'arabesk', 'arabic', 'arena',\n",
       "       'argentinetango', 'art', 'audiobook', 'author', 'avantgarde',\n",
       "       'axé', 'baile', 'balkan', 'beats', 'bigroom', 'black', 'bluegrass',\n",
       "       'blues', 'bollywood', 'bossa', 'brazilian', 'breakbeat', 'breaks',\n",
       "       'broadway', 'cantautori', 'cantopop', 'canzone', 'caribbean',\n",
       "       'caucasian', 'celtic', 'chamber', 'chanson', 'children', 'chill',\n",
       "       'chinese', 'choral', 'christian', 'christmas', 'classical',\n",
       "       'classicmetal', 'club', 'colombian', 'comedy', 'conjazz',\n",
       "       'contemporary', 'country', 'cuban', 'dance', 'dancehall',\n",
       "       'dancepop', 'dark', 'death', 'deep', 'deutschrock', 'deutschspr',\n",
       "       'dirty', 'disco', 'dnb', 'documentary', 'downbeat', 'downtempo',\n",
       "       'drum', 'dub', 'dubstep', 'eastern', 'easy', 'electronic',\n",
       "       'electropop', 'emo', 'entehno', 'epicmetal', 'estrada', 'ethnic',\n",
       "       'eurofolk', 'european', 'experimental', 'extrememetal', 'fado',\n",
       "       'fairytail', 'film', 'fitness', 'flamenco', 'folk', 'folklore',\n",
       "       'folkmetal', 'folkrock', 'folktronica', 'forró', 'frankreich',\n",
       "       'französisch', 'french', 'funk', 'future', 'gangsta', 'garage',\n",
       "       'german', 'ghazal', 'gitarre', 'glitch', 'gospel', 'gothic',\n",
       "       'grime', 'grunge', 'gypsy', 'handsup', \"hard'n'heavy\", 'hardcore',\n",
       "       'hardstyle', 'hardtechno', 'hiphop', 'historisch', 'holiday',\n",
       "       'horror', 'house', 'hymn', 'idm', 'independent', 'indian', 'indie',\n",
       "       'indipop', 'industrial', 'inspirational', 'instrumental',\n",
       "       'international', 'irish', 'jam', 'japanese', 'jazz', 'jewish',\n",
       "       'jpop', 'jungle', 'k-pop', 'karadeniz', 'karaoke', 'kayokyoku',\n",
       "       'korean', 'laiko', 'latin', 'latino', 'leftfield', 'local',\n",
       "       'lounge', 'loungeelectronic', 'lovers', 'malaysian', 'mandopop',\n",
       "       'marschmusik', 'meditative', 'mediterranean', 'melodic', 'metal',\n",
       "       'metalcore', 'mexican', 'middle', 'minimal', 'miscellaneous',\n",
       "       'modern', 'mood', 'mpb', 'muslim', 'native', 'neoklassik', 'neue',\n",
       "       'new', 'newage', 'newwave', 'nu', 'nujazz', 'numetal', 'oceania',\n",
       "       'old', 'opera', 'orchestral', 'other', 'piano', 'podcasts', 'pop',\n",
       "       'popdance', 'popelectronic', 'popeurodance', 'poprussian', 'post',\n",
       "       'posthardcore', 'postrock', 'power', 'progmetal', 'progressive',\n",
       "       'psychedelic', 'punjabi', 'punk', 'quebecois', 'ragga', 'ram',\n",
       "       'rancheras', 'rap', 'rave', 'reggae', 'reggaeton', 'regional',\n",
       "       'relax', 'religious', 'retro', 'rhythm', 'rnb', 'rnr', 'rock',\n",
       "       'rockabilly', 'rockalternative', 'rockindie', 'rockother',\n",
       "       'romance', 'roots', 'ruspop', 'rusrap', 'rusrock', 'russian',\n",
       "       'salsa', 'samba', 'scenic', 'schlager', 'self', 'sertanejo',\n",
       "       'shanson', 'shoegazing', 'showtunes', 'singer', 'ska', 'skarock',\n",
       "       'slow', 'smooth', 'soft', 'soul', 'soulful', 'sound', 'soundtrack',\n",
       "       'southern', 'specialty', 'speech', 'spiritual', 'sport',\n",
       "       'stonerrock', 'surf', 'swing', 'synthpop', 'synthrock',\n",
       "       'sängerportrait', 'tango', 'tanzorchester', 'taraftar', 'tatar',\n",
       "       'tech', 'techno', 'teen', 'thrash', 'top', 'traditional',\n",
       "       'tradjazz', 'trance', 'tribal', 'trip', 'triphop', 'tropical',\n",
       "       'türk', 'türkçe', 'ukrrock', 'unknown', 'urban', 'uzbek',\n",
       "       'variété', 'videogame', 'vocal', 'western', 'world', 'worldbeat'],\n",
       "      dtype=object)"
      ]
     },
     "execution_count": 17,
     "metadata": {},
     "output_type": "execute_result"
    }
   ],
   "source": [
    "# Проверка на неявные дубликаты\n",
    "df['genre'].sort_values().unique()"
   ]
  },
  {
   "cell_type": "markdown",
   "metadata": {
    "id": "jz6a9-7HQUDd"
   },
   "source": [
    "**Выводы**\n",
    "\n",
    "Предобработка обнаружила три проблемы в данных:\n",
    "\n",
    "- нарушения в стиле заголовков,\n",
    "- пропущенные значения,\n",
    "- дубликаты — явные и неявные.\n",
    "\n",
    "Вы исправили заголовки, чтобы упростить работу с таблицей. Без дубликатов исследование станет более точным.\n",
    "\n",
    "Пропущенные значения вы заменили на `'unknown'`. Ещё предстоит увидеть, не повредят ли исследованию пропуски в колонке `genre`.\n",
    "\n",
    "Теперь можно перейти к проверке гипотез. "
   ]
  },
  {
   "cell_type": "markdown",
   "metadata": {
    "id": "WttZHXH0SqKk"
   },
   "source": [
    "## Проверка гипотез"
   ]
  },
  {
   "cell_type": "markdown",
   "metadata": {
    "id": "Im936VVi_Zcu"
   },
   "source": [
    "### Сравнение поведения пользователей двух столиц"
   ]
  },
  {
   "cell_type": "markdown",
   "metadata": {
    "id": "nwt_MuaL_Zcu"
   },
   "source": [
    "Первая гипотеза утверждает, что пользователи по-разному слушают музыку в Москве и Санкт-Петербурге. Проверьте это предположение по данным о трёх днях недели — понедельнике, среде и пятнице. Для этого:\n",
    "\n",
    "* Разделите пользователей Москвы и Санкт-Петербурга\n",
    "* Сравните, сколько треков послушала каждая группа пользователей в понедельник, среду и пятницу.\n"
   ]
  },
  {
   "cell_type": "markdown",
   "metadata": {
    "id": "8Dw_YMmT_Zcu"
   },
   "source": [
    "Для тренировки сначала выполните каждый из расчётов по отдельности. \n",
    "\n",
    "Оцените активность пользователей в каждом городе. Сгруппируйте данные по городу и посчитайте прослушивания в каждой группе.\n",
    "\n"
   ]
  },
  {
   "cell_type": "code",
   "execution_count": 18,
   "metadata": {
    "id": "0_Qs96oh_Zcu"
   },
   "outputs": [
    {
     "name": "stdout",
     "output_type": "stream",
     "text": [
      "city\n",
      "Moscow              42741\n",
      "Saint-Petersburg    18512\n",
      "Name: user_id, dtype: int64\n"
     ]
    }
   ],
   "source": [
    "# Подсчёт прослушиваний в каждом городе\n",
    "listeners=df.groupby('city')['user_id'].count() #объявляем прослушивания через уникальную переменную\n",
    "print (listeners)"
   ]
  },
  {
   "cell_type": "markdown",
   "metadata": {},
   "source": [
    "<font color=\"green\">✔️ Комментарий ревьювера      \n",
    "Всё верно, параметр группировки указан правильно, а параметр для подсчета строк здесь в принципе может быть любой :)</font>\n"
   ]
  },
  {
   "cell_type": "markdown",
   "metadata": {
    "id": "dzli3w8o_Zcu"
   },
   "source": [
    "В Москве прослушиваний больше, чем в Петербурге. Из этого не следует, что московские пользователи чаще слушают музыку. Просто самих пользователей в Москве больше.\n",
    "\n",
    "Теперь сгруппируйте данные по дню недели и подсчитайте прослушивания в понедельник, среду и пятницу. Учтите, что в данных есть информация о прослушиваниях только за эти дни.\n"
   ]
  },
  {
   "cell_type": "code",
   "execution_count": 19,
   "metadata": {
    "id": "uZMKjiJz_Zcu"
   },
   "outputs": [
    {
     "name": "stdout",
     "output_type": "stream",
     "text": [
      "day\n",
      "Friday       21840\n",
      "Monday       21354\n",
      "Wednesday    18059\n",
      "Name: user_id, dtype: int64\n"
     ]
    }
   ],
   "source": [
    "# Подсчёт прослушиваний в каждый из трёх дней\n",
    "\n",
    "listenings_by_day=df.groupby('day')['user_id'].count() #объявляем прослушивания через уникальную переменную\n",
    "print (listenings_by_day)"
   ]
  },
  {
   "cell_type": "markdown",
   "metadata": {
    "id": "cC2tNrlL_Zcu"
   },
   "source": [
    "В среднем пользователи из двух городов менее активны по средам. Но картина может измениться, если рассмотреть каждый город в отдельности."
   ]
  },
  {
   "cell_type": "markdown",
   "metadata": {
    "id": "POzs8bGa_Zcu"
   },
   "source": [
    "Вы видели, как работает группировка по городу и по дням недели. Теперь напишите функцию, которая объединит два эти расчёта.\n",
    "\n",
    "Создайте функцию `number_tracks()`, которая посчитает прослушивания для заданного дня и города. Ей понадобятся два параметра:\n",
    "* день недели,\n",
    "* название города.\n",
    "\n",
    "В функции сохраните в переменную строки исходной таблицы, у которых значение:\n",
    "  * в колонке `day` равно параметру `day`,\n",
    "  * в колонке `city` равно параметру `city`.\n",
    "\n",
    "Для этого примените последовательную фильтрацию с логической индексацией.\n",
    "\n",
    "Затем посчитайте значения в столбце `user_id` получившейся таблицы. Результат сохраните в новую переменную. Верните эту переменную из функции."
   ]
  },
  {
   "cell_type": "code",
   "execution_count": 20,
   "metadata": {
    "id": "Nz3GdQB1_Zcu"
   },
   "outputs": [],
   "source": [
    "# <создание функции number_tracks()>\n",
    "\n",
    "# Объявляется функция с двумя параметрами: day, city.\n",
    "def number_tracks(day,city):\n",
    "    \n",
    "# В переменной track_list сохраняются те строки таблицы df, для которых \n",
    "# значение в столбце 'day' равно параметру day и одновременно значение\n",
    "# в столбце 'city' равно параметру city (используйте последовательную фильтрацию\n",
    "# с помощью логической индексации).\n",
    "    track_list=df[(df['day']==day)&(df['city']==city)]\n",
    "# В переменной track_list_count сохраняется число значений столбца 'user_id',\n",
    "# рассчитанное методом count() для таблицы track_list.\n",
    "    track_list_count=track_list['user_id'].count()\n",
    "# Функция возвращает число - значение track_list_count.\n",
    "    return track_list_count\n",
    "# Функция для подсчёта прослушиваний для конкретного города и дня.\n",
    "# С помощью последовательной фильтрации с логической индексацией она \n",
    "# сначала получит из исходной таблицы строки с нужным днём,\n",
    "# затем из результата отфильтрует строки с нужным городом,\n",
    "# методом count() посчитает количество значений в колонке user_id. \n",
    "# Это количество функция вернёт в качестве результата"
   ]
  },
  {
   "cell_type": "markdown",
   "metadata": {},
   "source": [
    "<font color=\"green\">✔️ Комментарий ревьювера      \n",
    "Отличное решение, функция правильная.</font>\n"
   ]
  },
  {
   "cell_type": "markdown",
   "metadata": {
    "id": "ytf7xFrFJQ2r"
   },
   "source": [
    "Вызовите `number_tracks()` шесть раз, меняя значение параметров — так, чтобы получить данные для каждого города в каждый из трёх дней."
   ]
  },
  {
   "cell_type": "code",
   "execution_count": 21,
   "metadata": {
    "id": "rJcRATNQ_Zcu"
   },
   "outputs": [
    {
     "data": {
      "text/plain": [
       "15740"
      ]
     },
     "execution_count": 21,
     "metadata": {},
     "output_type": "execute_result"
    }
   ],
   "source": [
    "# количество прослушиваний в Москве по понедельникам\n",
    "\n",
    "number_tracks ('Monday', 'Moscow')"
   ]
  },
  {
   "cell_type": "code",
   "execution_count": 22,
   "metadata": {
    "id": "hq_ncZ5T_Zcu"
   },
   "outputs": [
    {
     "data": {
      "text/plain": [
       "5614"
      ]
     },
     "execution_count": 22,
     "metadata": {},
     "output_type": "execute_result"
    }
   ],
   "source": [
    "# количество прослушиваний в Санкт-Петербурге по понедельникам\n",
    "number_tracks ('Monday', 'Saint-Petersburg')"
   ]
  },
  {
   "cell_type": "code",
   "execution_count": 23,
   "metadata": {
    "id": "_NTy2VPU_Zcu"
   },
   "outputs": [
    {
     "data": {
      "text/plain": [
       "11056"
      ]
     },
     "execution_count": 23,
     "metadata": {},
     "output_type": "execute_result"
    }
   ],
   "source": [
    "# количество прослушиваний в Москве по средам\n",
    "number_tracks ('Wednesday', 'Moscow')"
   ]
  },
  {
   "cell_type": "code",
   "execution_count": 24,
   "metadata": {
    "id": "j2y3TAwo_Zcu"
   },
   "outputs": [
    {
     "data": {
      "text/plain": [
       "7003"
      ]
     },
     "execution_count": 24,
     "metadata": {},
     "output_type": "execute_result"
    }
   ],
   "source": [
    "# количество прослушиваний в Санкт-Петербурге по средам\n",
    "number_tracks ('Wednesday', 'Saint-Petersburg')"
   ]
  },
  {
   "cell_type": "code",
   "execution_count": 25,
   "metadata": {
    "id": "vYDw5u_K_Zcu"
   },
   "outputs": [
    {
     "data": {
      "text/plain": [
       "15945"
      ]
     },
     "execution_count": 25,
     "metadata": {},
     "output_type": "execute_result"
    }
   ],
   "source": [
    "# количество прослушиваний в Москве по пятницам\n",
    "number_tracks ('Friday', 'Moscow')"
   ]
  },
  {
   "cell_type": "code",
   "execution_count": 26,
   "metadata": {
    "id": "8_yzFtW3_Zcu"
   },
   "outputs": [
    {
     "data": {
      "text/plain": [
       "5895"
      ]
     },
     "execution_count": 26,
     "metadata": {},
     "output_type": "execute_result"
    }
   ],
   "source": [
    "# количество прослушиваний в Санкт-Петербурге по пятницам\n",
    "number_tracks ('Friday', 'Saint-Petersburg')"
   ]
  },
  {
   "cell_type": "markdown",
   "metadata": {},
   "source": [
    "<font color=\"green\">✔️ Комментарий ревьювера       \n",
    "Хорошо. Проверку всегда желательно делать</font>\n"
   ]
  },
  {
   "cell_type": "markdown",
   "metadata": {
    "id": "7QXffbO-_Zcu"
   },
   "source": [
    "Создайте c помощью конструктора `pd.DataFrame` таблицу, где\n",
    "* названия колонок — `['city', 'monday', 'wednesday', 'friday']`;\n",
    "* данные — результаты, которые вы получили с помощью `number_tracks`."
   ]
  },
  {
   "cell_type": "code",
   "execution_count": 27,
   "metadata": {
    "id": "APAcLpOr_Zcu"
   },
   "outputs": [
    {
     "data": {
      "text/html": [
       "<div>\n",
       "<style scoped>\n",
       "    .dataframe tbody tr th:only-of-type {\n",
       "        vertical-align: middle;\n",
       "    }\n",
       "\n",
       "    .dataframe tbody tr th {\n",
       "        vertical-align: top;\n",
       "    }\n",
       "\n",
       "    .dataframe thead th {\n",
       "        text-align: right;\n",
       "    }\n",
       "</style>\n",
       "<table border=\"1\" class=\"dataframe\">\n",
       "  <thead>\n",
       "    <tr style=\"text-align: right;\">\n",
       "      <th></th>\n",
       "      <th>city</th>\n",
       "      <th>monday</th>\n",
       "      <th>wednesday</th>\n",
       "      <th>friday</th>\n",
       "    </tr>\n",
       "  </thead>\n",
       "  <tbody>\n",
       "    <tr>\n",
       "      <th>0</th>\n",
       "      <td>Москва</td>\n",
       "      <td>15740</td>\n",
       "      <td>11056</td>\n",
       "      <td>15945</td>\n",
       "    </tr>\n",
       "    <tr>\n",
       "      <th>1</th>\n",
       "      <td>Питер</td>\n",
       "      <td>5614</td>\n",
       "      <td>7003</td>\n",
       "      <td>5895</td>\n",
       "    </tr>\n",
       "  </tbody>\n",
       "</table>\n",
       "</div>"
      ],
      "text/plain": [
       "     city  monday  wednesday  friday\n",
       "0  Москва   15740      11056   15945\n",
       "1   Питер    5614       7003    5895"
      ]
     },
     "execution_count": 27,
     "metadata": {},
     "output_type": "execute_result"
    }
   ],
   "source": [
    "# Таблица с результатами\n",
    "columns = ['city', 'monday', 'wednesday', 'friday']\n",
    "data=[['Москва', 15740, 11056, 15945],\n",
    "    ['Питер', 5614, 7003, 5895]] \n",
    "\n",
    "pd.DataFrame(data=data, columns=columns)\n"
   ]
  },
  {
   "cell_type": "markdown",
   "metadata": {},
   "source": [
    "<font color=\"green\">✔️ Комментарий ревьювера       \n",
    "Хорошо, красивая табличка. Здесь в данных можно было называть города по русски, это ни на что не влияет</font>\n",
    "\n",
    "<font color='orange'> Вай нот, исправил)</font>\n",
    "\n",
    "<font color=\"green\">✔️ Комментарий ревьювера 2      \n",
    "Хорошо</font>\n"
   ]
  },
  {
   "cell_type": "markdown",
   "metadata": {
    "id": "-EgPIHYu_Zcu"
   },
   "source": [
    "**Выводы**\n",
    "\n",
    "Данные показывают разницу поведения пользователей:\n",
    "\n",
    "- В Москве пик прослушиваний приходится на понедельник и пятницу, а в среду заметен спад.\n",
    "- В Петербурге, наоборот, больше слушают музыку по средам. Активность в понедельник и пятницу здесь почти в равной мере уступает среде.\n",
    "\n",
    "Значит, данные говорят в пользу первой гипотезы."
   ]
  },
  {
   "cell_type": "markdown",
   "metadata": {
    "id": "atZAxtq4_Zcu"
   },
   "source": [
    "### Музыка в начале и в конце недели"
   ]
  },
  {
   "cell_type": "markdown",
   "metadata": {
    "id": "eXrQqXFH_Zcu"
   },
   "source": [
    "Согласно второй гипотезе, утром в понедельник в Москве преобладают одни жанры, а в Петербурге — другие. Так же и вечером пятницы преобладают разные жанры — в зависимости от города."
   ]
  },
  {
   "cell_type": "markdown",
   "metadata": {
    "id": "S8UcW6Hw_Zcu"
   },
   "source": [
    "Сохраните таблицы с данными в две переменные:\n",
    "* по Москве — в `moscow_general`;\n",
    "* по Санкт-Петербургу — в `spb_general`."
   ]
  },
  {
   "cell_type": "code",
   "execution_count": 28,
   "metadata": {
    "id": "qeaFfM_P_Zcu"
   },
   "outputs": [
    {
     "data": {
      "text/html": [
       "<div>\n",
       "<style scoped>\n",
       "    .dataframe tbody tr th:only-of-type {\n",
       "        vertical-align: middle;\n",
       "    }\n",
       "\n",
       "    .dataframe tbody tr th {\n",
       "        vertical-align: top;\n",
       "    }\n",
       "\n",
       "    .dataframe thead th {\n",
       "        text-align: right;\n",
       "    }\n",
       "</style>\n",
       "<table border=\"1\" class=\"dataframe\">\n",
       "  <thead>\n",
       "    <tr style=\"text-align: right;\">\n",
       "      <th></th>\n",
       "      <th>user_id</th>\n",
       "      <th>track</th>\n",
       "      <th>artist</th>\n",
       "      <th>genre</th>\n",
       "      <th>city</th>\n",
       "      <th>time</th>\n",
       "      <th>day</th>\n",
       "    </tr>\n",
       "  </thead>\n",
       "  <tbody>\n",
       "    <tr>\n",
       "      <th>1</th>\n",
       "      <td>55204538</td>\n",
       "      <td>Delayed Because of Accident</td>\n",
       "      <td>Andreas Rönnberg</td>\n",
       "      <td>rock</td>\n",
       "      <td>Moscow</td>\n",
       "      <td>14:07:09</td>\n",
       "      <td>Friday</td>\n",
       "    </tr>\n",
       "    <tr>\n",
       "      <th>4</th>\n",
       "      <td>E2DC1FAE</td>\n",
       "      <td>Soul People</td>\n",
       "      <td>Space Echo</td>\n",
       "      <td>dance</td>\n",
       "      <td>Moscow</td>\n",
       "      <td>08:34:34</td>\n",
       "      <td>Monday</td>\n",
       "    </tr>\n",
       "    <tr>\n",
       "      <th>6</th>\n",
       "      <td>4CB90AA5</td>\n",
       "      <td>True</td>\n",
       "      <td>Roman Messer</td>\n",
       "      <td>dance</td>\n",
       "      <td>Moscow</td>\n",
       "      <td>13:00:07</td>\n",
       "      <td>Wednesday</td>\n",
       "    </tr>\n",
       "    <tr>\n",
       "      <th>7</th>\n",
       "      <td>F03E1C1F</td>\n",
       "      <td>Feeling This Way</td>\n",
       "      <td>Polina Griffith</td>\n",
       "      <td>dance</td>\n",
       "      <td>Moscow</td>\n",
       "      <td>20:47:49</td>\n",
       "      <td>Wednesday</td>\n",
       "    </tr>\n",
       "    <tr>\n",
       "      <th>8</th>\n",
       "      <td>8FA1D3BE</td>\n",
       "      <td>И вновь продолжается бой</td>\n",
       "      <td>unknown</td>\n",
       "      <td>ruspop</td>\n",
       "      <td>Moscow</td>\n",
       "      <td>09:17:40</td>\n",
       "      <td>Friday</td>\n",
       "    </tr>\n",
       "    <tr>\n",
       "      <th>10</th>\n",
       "      <td>BC5A3A29</td>\n",
       "      <td>Gool la Mita</td>\n",
       "      <td>Shireen Abdul Wahab</td>\n",
       "      <td>world</td>\n",
       "      <td>Moscow</td>\n",
       "      <td>14:08:42</td>\n",
       "      <td>Monday</td>\n",
       "    </tr>\n",
       "    <tr>\n",
       "      <th>11</th>\n",
       "      <td>8B5192C0</td>\n",
       "      <td>Is There Anybody Out There? (Panoramic Paralys...</td>\n",
       "      <td>Pink Floyd Floydhead</td>\n",
       "      <td>electronic</td>\n",
       "      <td>Moscow</td>\n",
       "      <td>13:47:49</td>\n",
       "      <td>Monday</td>\n",
       "    </tr>\n",
       "    <tr>\n",
       "      <th>12</th>\n",
       "      <td>FF3FD2BD</td>\n",
       "      <td>Мина син генэ кирэк</td>\n",
       "      <td>Ильдар Хакимов</td>\n",
       "      <td>pop</td>\n",
       "      <td>Moscow</td>\n",
       "      <td>09:19:49</td>\n",
       "      <td>Monday</td>\n",
       "    </tr>\n",
       "    <tr>\n",
       "      <th>13</th>\n",
       "      <td>CC782B0F</td>\n",
       "      <td>After School Special</td>\n",
       "      <td>Detroit Grand Pubahs</td>\n",
       "      <td>dance</td>\n",
       "      <td>Moscow</td>\n",
       "      <td>20:04:12</td>\n",
       "      <td>Friday</td>\n",
       "    </tr>\n",
       "    <tr>\n",
       "      <th>15</th>\n",
       "      <td>E3C5756F</td>\n",
       "      <td>unknown</td>\n",
       "      <td>unknown</td>\n",
       "      <td>unknown</td>\n",
       "      <td>Moscow</td>\n",
       "      <td>09:24:51</td>\n",
       "      <td>Monday</td>\n",
       "    </tr>\n",
       "    <tr>\n",
       "      <th>19</th>\n",
       "      <td>772F5B59</td>\n",
       "      <td>Sweetback</td>\n",
       "      <td>The Fabulous Three</td>\n",
       "      <td>rnb</td>\n",
       "      <td>Moscow</td>\n",
       "      <td>13:56:42</td>\n",
       "      <td>Wednesday</td>\n",
       "    </tr>\n",
       "    <tr>\n",
       "      <th>20</th>\n",
       "      <td>201CF2A8</td>\n",
       "      <td>Ya'll In Trouble</td>\n",
       "      <td>Lil Tee Chill Tank Young Buck Brother Mohammed...</td>\n",
       "      <td>hiphop</td>\n",
       "      <td>Moscow</td>\n",
       "      <td>08:46:03</td>\n",
       "      <td>Monday</td>\n",
       "    </tr>\n",
       "    <tr>\n",
       "      <th>21</th>\n",
       "      <td>44B8E869</td>\n",
       "      <td>Nanovirus</td>\n",
       "      <td>Exotype</td>\n",
       "      <td>rock</td>\n",
       "      <td>Moscow</td>\n",
       "      <td>21:36:40</td>\n",
       "      <td>Monday</td>\n",
       "    </tr>\n",
       "    <tr>\n",
       "      <th>23</th>\n",
       "      <td>A729591B</td>\n",
       "      <td>Gavotte</td>\n",
       "      <td>Hachidai Nakamura</td>\n",
       "      <td>jazz</td>\n",
       "      <td>Moscow</td>\n",
       "      <td>13:56:00</td>\n",
       "      <td>Monday</td>\n",
       "    </tr>\n",
       "    <tr>\n",
       "      <th>27</th>\n",
       "      <td>9CC6AA46</td>\n",
       "      <td>Mucho Corazón</td>\n",
       "      <td>Buena Vista Social Club</td>\n",
       "      <td>latin</td>\n",
       "      <td>Moscow</td>\n",
       "      <td>14:06:22</td>\n",
       "      <td>Monday</td>\n",
       "    </tr>\n",
       "  </tbody>\n",
       "</table>\n",
       "</div>"
      ],
      "text/plain": [
       "     user_id                                              track  \\\n",
       "1   55204538                        Delayed Because of Accident   \n",
       "4   E2DC1FAE                                        Soul People   \n",
       "6   4CB90AA5                                               True   \n",
       "7   F03E1C1F                                   Feeling This Way   \n",
       "8   8FA1D3BE                           И вновь продолжается бой   \n",
       "10  BC5A3A29                                       Gool la Mita   \n",
       "11  8B5192C0  Is There Anybody Out There? (Panoramic Paralys...   \n",
       "12  FF3FD2BD                                Мина син генэ кирэк   \n",
       "13  CC782B0F                               After School Special   \n",
       "15  E3C5756F                                            unknown   \n",
       "19  772F5B59                                          Sweetback   \n",
       "20  201CF2A8                                   Ya'll In Trouble   \n",
       "21  44B8E869                                          Nanovirus   \n",
       "23  A729591B                                            Gavotte   \n",
       "27  9CC6AA46                                      Mucho Corazón   \n",
       "\n",
       "                                               artist       genre    city  \\\n",
       "1                                    Andreas Rönnberg        rock  Moscow   \n",
       "4                                          Space Echo       dance  Moscow   \n",
       "6                                        Roman Messer       dance  Moscow   \n",
       "7                                     Polina Griffith       dance  Moscow   \n",
       "8                                             unknown      ruspop  Moscow   \n",
       "10                                Shireen Abdul Wahab       world  Moscow   \n",
       "11                               Pink Floyd Floydhead  electronic  Moscow   \n",
       "12                                     Ильдар Хакимов         pop  Moscow   \n",
       "13                               Detroit Grand Pubahs       dance  Moscow   \n",
       "15                                            unknown     unknown  Moscow   \n",
       "19                                 The Fabulous Three         rnb  Moscow   \n",
       "20  Lil Tee Chill Tank Young Buck Brother Mohammed...      hiphop  Moscow   \n",
       "21                                            Exotype        rock  Moscow   \n",
       "23                                  Hachidai Nakamura        jazz  Moscow   \n",
       "27                            Buena Vista Social Club       latin  Moscow   \n",
       "\n",
       "        time        day  \n",
       "1   14:07:09     Friday  \n",
       "4   08:34:34     Monday  \n",
       "6   13:00:07  Wednesday  \n",
       "7   20:47:49  Wednesday  \n",
       "8   09:17:40     Friday  \n",
       "10  14:08:42     Monday  \n",
       "11  13:47:49     Monday  \n",
       "12  09:19:49     Monday  \n",
       "13  20:04:12     Friday  \n",
       "15  09:24:51     Monday  \n",
       "19  13:56:42  Wednesday  \n",
       "20  08:46:03     Monday  \n",
       "21  21:36:40     Monday  \n",
       "23  13:56:00     Monday  \n",
       "27  14:06:22     Monday  "
      ]
     },
     "execution_count": 28,
     "metadata": {},
     "output_type": "execute_result"
    }
   ],
   "source": [
    "# получение таблицы moscow_general из тех строк таблицы df, \n",
    "# для которых значение в столбце 'city' равно 'Moscow'\n",
    "moscow_general=df[df['city']=='Moscow']\n",
    "moscow_general.head(15)#для инфо глянем верхние 15 строчек"
   ]
  },
  {
   "cell_type": "markdown",
   "metadata": {},
   "source": [
    "<font color=\"green\">Комментарий ревьювера       \n",
    "✔️ Все верно</font>"
   ]
  },
  {
   "cell_type": "code",
   "execution_count": 29,
   "metadata": {
    "id": "ORaVRKto_Zcu"
   },
   "outputs": [
    {
     "data": {
      "text/html": [
       "<div>\n",
       "<style scoped>\n",
       "    .dataframe tbody tr th:only-of-type {\n",
       "        vertical-align: middle;\n",
       "    }\n",
       "\n",
       "    .dataframe tbody tr th {\n",
       "        vertical-align: top;\n",
       "    }\n",
       "\n",
       "    .dataframe thead th {\n",
       "        text-align: right;\n",
       "    }\n",
       "</style>\n",
       "<table border=\"1\" class=\"dataframe\">\n",
       "  <thead>\n",
       "    <tr style=\"text-align: right;\">\n",
       "      <th></th>\n",
       "      <th>user_id</th>\n",
       "      <th>track</th>\n",
       "      <th>artist</th>\n",
       "      <th>genre</th>\n",
       "      <th>city</th>\n",
       "      <th>time</th>\n",
       "      <th>day</th>\n",
       "    </tr>\n",
       "  </thead>\n",
       "  <tbody>\n",
       "    <tr>\n",
       "      <th>0</th>\n",
       "      <td>FFB692EC</td>\n",
       "      <td>Kamigata To Boots</td>\n",
       "      <td>The Mass Missile</td>\n",
       "      <td>rock</td>\n",
       "      <td>Saint-Petersburg</td>\n",
       "      <td>20:28:33</td>\n",
       "      <td>Wednesday</td>\n",
       "    </tr>\n",
       "    <tr>\n",
       "      <th>2</th>\n",
       "      <td>20EC38</td>\n",
       "      <td>Funiculì funiculà</td>\n",
       "      <td>Mario Lanza</td>\n",
       "      <td>pop</td>\n",
       "      <td>Saint-Petersburg</td>\n",
       "      <td>20:58:07</td>\n",
       "      <td>Wednesday</td>\n",
       "    </tr>\n",
       "    <tr>\n",
       "      <th>3</th>\n",
       "      <td>A3DD03C9</td>\n",
       "      <td>Dragons in the Sunset</td>\n",
       "      <td>Fire + Ice</td>\n",
       "      <td>folk</td>\n",
       "      <td>Saint-Petersburg</td>\n",
       "      <td>08:37:09</td>\n",
       "      <td>Monday</td>\n",
       "    </tr>\n",
       "    <tr>\n",
       "      <th>5</th>\n",
       "      <td>842029A1</td>\n",
       "      <td>Преданная</td>\n",
       "      <td>IMPERVTOR</td>\n",
       "      <td>rusrap</td>\n",
       "      <td>Saint-Petersburg</td>\n",
       "      <td>13:09:41</td>\n",
       "      <td>Friday</td>\n",
       "    </tr>\n",
       "    <tr>\n",
       "      <th>9</th>\n",
       "      <td>E772D5C0</td>\n",
       "      <td>Pessimist</td>\n",
       "      <td>unknown</td>\n",
       "      <td>dance</td>\n",
       "      <td>Saint-Petersburg</td>\n",
       "      <td>21:20:49</td>\n",
       "      <td>Wednesday</td>\n",
       "    </tr>\n",
       "    <tr>\n",
       "      <th>14</th>\n",
       "      <td>94EB25C2</td>\n",
       "      <td>Make Love Whenever You Can</td>\n",
       "      <td>Arabesque</td>\n",
       "      <td>pop</td>\n",
       "      <td>Saint-Petersburg</td>\n",
       "      <td>13:22:08</td>\n",
       "      <td>Wednesday</td>\n",
       "    </tr>\n",
       "    <tr>\n",
       "      <th>16</th>\n",
       "      <td>81D05C7D</td>\n",
       "      <td>SLAVES OF FEAR</td>\n",
       "      <td>HEALTH</td>\n",
       "      <td>alternative</td>\n",
       "      <td>Saint-Petersburg</td>\n",
       "      <td>20:54:48</td>\n",
       "      <td>Monday</td>\n",
       "    </tr>\n",
       "    <tr>\n",
       "      <th>17</th>\n",
       "      <td>39DE290E</td>\n",
       "      <td>Веснянка</td>\n",
       "      <td>Веданъ Колодъ</td>\n",
       "      <td>folk</td>\n",
       "      <td>Saint-Petersburg</td>\n",
       "      <td>14:36:47</td>\n",
       "      <td>Monday</td>\n",
       "    </tr>\n",
       "    <tr>\n",
       "      <th>18</th>\n",
       "      <td>58AE138A</td>\n",
       "      <td>Pat-a-Cake</td>\n",
       "      <td>Mother Goose Club</td>\n",
       "      <td>children</td>\n",
       "      <td>Saint-Petersburg</td>\n",
       "      <td>20:04:56</td>\n",
       "      <td>Monday</td>\n",
       "    </tr>\n",
       "    <tr>\n",
       "      <th>22</th>\n",
       "      <td>B8E29C9C</td>\n",
       "      <td>Самота</td>\n",
       "      <td>unknown</td>\n",
       "      <td>folk</td>\n",
       "      <td>Saint-Petersburg</td>\n",
       "      <td>20:20:49</td>\n",
       "      <td>Wednesday</td>\n",
       "    </tr>\n",
       "    <tr>\n",
       "      <th>24</th>\n",
       "      <td>8BA8855</td>\n",
       "      <td>A Universal Weakness</td>\n",
       "      <td>Lowercase Noises</td>\n",
       "      <td>postrock</td>\n",
       "      <td>Saint-Petersburg</td>\n",
       "      <td>21:17:25</td>\n",
       "      <td>Wednesday</td>\n",
       "    </tr>\n",
       "    <tr>\n",
       "      <th>25</th>\n",
       "      <td>A4504035</td>\n",
       "      <td>Cradle in Bethlehem</td>\n",
       "      <td>Nat King Cole</td>\n",
       "      <td>jazz</td>\n",
       "      <td>Saint-Petersburg</td>\n",
       "      <td>09:23:01</td>\n",
       "      <td>Wednesday</td>\n",
       "    </tr>\n",
       "    <tr>\n",
       "      <th>26</th>\n",
       "      <td>982219FD</td>\n",
       "      <td>We Not Speak Americano</td>\n",
       "      <td>Genio Band</td>\n",
       "      <td>pop</td>\n",
       "      <td>Saint-Petersburg</td>\n",
       "      <td>20:03:03</td>\n",
       "      <td>Monday</td>\n",
       "    </tr>\n",
       "    <tr>\n",
       "      <th>29</th>\n",
       "      <td>5661F63E</td>\n",
       "      <td>Cюита из балета «Семь красавиц»: I. Вальс</td>\n",
       "      <td>Рауф Абдуллаев Азербайджанский государственный...</td>\n",
       "      <td>classical</td>\n",
       "      <td>Saint-Petersburg</td>\n",
       "      <td>08:33:58</td>\n",
       "      <td>Wednesday</td>\n",
       "    </tr>\n",
       "    <tr>\n",
       "      <th>30</th>\n",
       "      <td>EBA5A8B2</td>\n",
       "      <td>Päivän Nousu Nostajani</td>\n",
       "      <td>Värttinä</td>\n",
       "      <td>world</td>\n",
       "      <td>Saint-Petersburg</td>\n",
       "      <td>08:00:31</td>\n",
       "      <td>Friday</td>\n",
       "    </tr>\n",
       "  </tbody>\n",
       "</table>\n",
       "</div>"
      ],
      "text/plain": [
       "     user_id                                      track  \\\n",
       "0   FFB692EC                          Kamigata To Boots   \n",
       "2     20EC38                          Funiculì funiculà   \n",
       "3   A3DD03C9                      Dragons in the Sunset   \n",
       "5   842029A1                                  Преданная   \n",
       "9   E772D5C0                                  Pessimist   \n",
       "14  94EB25C2                 Make Love Whenever You Can   \n",
       "16  81D05C7D                             SLAVES OF FEAR   \n",
       "17  39DE290E                                   Веснянка   \n",
       "18  58AE138A                                 Pat-a-Cake   \n",
       "22  B8E29C9C                                     Самота   \n",
       "24   8BA8855                       A Universal Weakness   \n",
       "25  A4504035                        Cradle in Bethlehem   \n",
       "26  982219FD                     We Not Speak Americano   \n",
       "29  5661F63E  Cюита из балета «Семь красавиц»: I. Вальс   \n",
       "30  EBA5A8B2                     Päivän Nousu Nostajani   \n",
       "\n",
       "                                               artist        genre  \\\n",
       "0                                    The Mass Missile         rock   \n",
       "2                                         Mario Lanza          pop   \n",
       "3                                          Fire + Ice         folk   \n",
       "5                                           IMPERVTOR       rusrap   \n",
       "9                                             unknown        dance   \n",
       "14                                          Arabesque          pop   \n",
       "16                                             HEALTH  alternative   \n",
       "17                                      Веданъ Колодъ         folk   \n",
       "18                                  Mother Goose Club     children   \n",
       "22                                            unknown         folk   \n",
       "24                                   Lowercase Noises     postrock   \n",
       "25                                      Nat King Cole         jazz   \n",
       "26                                         Genio Band          pop   \n",
       "29  Рауф Абдуллаев Азербайджанский государственный...    classical   \n",
       "30                                          Värttinä        world   \n",
       "\n",
       "                city      time        day  \n",
       "0   Saint-Petersburg  20:28:33  Wednesday  \n",
       "2   Saint-Petersburg  20:58:07  Wednesday  \n",
       "3   Saint-Petersburg  08:37:09     Monday  \n",
       "5   Saint-Petersburg  13:09:41     Friday  \n",
       "9   Saint-Petersburg  21:20:49  Wednesday  \n",
       "14  Saint-Petersburg  13:22:08  Wednesday  \n",
       "16  Saint-Petersburg  20:54:48     Monday  \n",
       "17  Saint-Petersburg  14:36:47     Monday  \n",
       "18  Saint-Petersburg  20:04:56     Monday  \n",
       "22  Saint-Petersburg  20:20:49  Wednesday  \n",
       "24  Saint-Petersburg  21:17:25  Wednesday  \n",
       "25  Saint-Petersburg  09:23:01  Wednesday  \n",
       "26  Saint-Petersburg  20:03:03     Monday  \n",
       "29  Saint-Petersburg  08:33:58  Wednesday  \n",
       "30  Saint-Petersburg  08:00:31     Friday  "
      ]
     },
     "execution_count": 29,
     "metadata": {},
     "output_type": "execute_result"
    }
   ],
   "source": [
    "# получение таблицы spb_general из тех строк таблицы df,\n",
    "# для которых значение в столбце 'city' равно 'Saint-Petersburg'\n",
    "spb_general=df[df['city']=='Saint-Petersburg']\n",
    "spb_general.head(15) #для инфо глянем верхние 15 строчек"
   ]
  },
  {
   "cell_type": "markdown",
   "metadata": {
    "id": "MEJV-CX2_Zcu"
   },
   "source": [
    "Создайте функцию `genre_weekday()` с четырьмя параметрами:\n",
    "* таблица (датафрейм) с данными,\n",
    "* день недели,\n",
    "* начальная временная метка в формате 'hh:mm', \n",
    "* последняя временная метка в формате 'hh:mm'.\n",
    "\n",
    "Функция должна вернуть информацию о топ-10 жанров тех треков, которые прослушивали в указанный день, в промежутке между двумя отметками времени."
   ]
  },
  {
   "cell_type": "code",
   "execution_count": 30,
   "metadata": {
    "id": "laJT9BYl_Zcu"
   },
   "outputs": [],
   "source": [
    "# Объявление функции genre_weekday() с параметрами table, day, time1, time2,\n",
    "# которая возвращает информацию о самых популярных жанрах в указанный день в\n",
    "# заданное время:\n",
    "# 1) в переменную genre_df сохраняются те строки переданного датафрейма table, для\n",
    "#    которых одновременно:\n",
    "#    - значение в столбце day равно значению аргумента day\n",
    "#    - значение в столбце time больше значения аргумента time1\n",
    "#    - значение в столбце time меньше значения аргумента time2\n",
    "#    Используйте последовательную фильтрацию с помощью логической индексации.\n",
    "\n",
    "def genre_weekday (table, day, time1, time2):\n",
    "    genre_df=table[table['day']==day]\n",
    "    genre_df=genre_df[genre_df['time']>=time1]\n",
    "    genre_df=genre_df[genre_df['time']<=time2]\n",
    "\n",
    "\n",
    "\n",
    "# 2) сгруппировать датафрейм genre_df по столбцу genre, взять один из его\n",
    "#    столбцов и посчитать методом count() количество записей для каждого из\n",
    "#    присутствующих жанров, получившийся Series записать в переменную\n",
    "#    genre_df_count\n",
    "    genre_df_count=genre_df.groupby('genre')['genre'].count()\n",
    "\n",
    "\n",
    "# 3) отсортировать genre_df_count по убыванию встречаемости и сохранить\n",
    "#    в переменную genre_df_sorted\n",
    "    genre_df_sorted=genre_df_count.sort_values(ascending=False) \n",
    "                                          \n",
    "# 4) вернуть Series из 10 первых значений genre_df_sorted, это будут топ-10\n",
    "#    популярных жанров (в указанный день, в заданное время)\n",
    "\n",
    "    return genre_df_sorted.head(10) \n",
    " "
   ]
  },
  {
   "cell_type": "markdown",
   "metadata": {},
   "source": [
    "<font color=\"red\">❌ Комментарий ревьювера   \n",
    "У тебя неврено сделана фукнция. посмотри - ты при сортируешь каждый раз по table, а не по новой, отсортированной перемсенной :)</font>\n",
    "\n",
    "<font color='orange'> Точччно! В результате я получил срез только по параметрам day+time2. time1 вылетело. Отсюда и косяки)</font>\n",
    "\n",
    "<font color=\"green\">✔️ Комментарий ревьювера 2      \n",
    "Да, я сам удивился твоему коду :)</font>"
   ]
  },
  {
   "cell_type": "markdown",
   "metadata": {
    "id": "la2s2_PF_Zcu"
   },
   "source": [
    "Cравните результаты функции `genre_weekday()` для Москвы и Санкт-Петербурга в понедельник утром (с 7:00 до 11:00) и в пятницу вечером (с 17:00 до 23:00):"
   ]
  },
  {
   "cell_type": "code",
   "execution_count": 31,
   "metadata": {
    "id": "yz7itPUQ_Zcu"
   },
   "outputs": [
    {
     "data": {
      "text/plain": [
       "genre\n",
       "pop            781\n",
       "dance          549\n",
       "electronic     480\n",
       "rock           474\n",
       "hiphop         286\n",
       "ruspop         186\n",
       "world          181\n",
       "rusrap         175\n",
       "alternative    164\n",
       "unknown        161\n",
       "Name: genre, dtype: int64"
      ]
     },
     "execution_count": 31,
     "metadata": {},
     "output_type": "execute_result"
    }
   ],
   "source": [
    "# вызов функции для утра понедельника в Москве (вместо df — таблица moscow_general)\n",
    "# объекты, хранящие время, являются строками и сравниваются как строки\n",
    "# пример вызова: genre_weekday(moscow_general, 'Monday', '07:00', '11:00')\n",
    "genre_weekday(moscow_general, 'Monday', '07:00' , '11:00')"
   ]
  },
  {
   "cell_type": "code",
   "execution_count": 32,
   "metadata": {
    "id": "kwUcHPdy_Zcu"
   },
   "outputs": [
    {
     "data": {
      "text/plain": [
       "genre\n",
       "pop            218\n",
       "dance          182\n",
       "rock           162\n",
       "electronic     147\n",
       "hiphop          80\n",
       "ruspop          64\n",
       "alternative     58\n",
       "rusrap          55\n",
       "jazz            44\n",
       "classical       40\n",
       "Name: genre, dtype: int64"
      ]
     },
     "execution_count": 32,
     "metadata": {},
     "output_type": "execute_result"
    }
   ],
   "source": [
    "# вызов функции для утра понедельника в Петербурге (вместо df — таблица spb_general)\n",
    "genre_weekday(spb_general, 'Monday', '07:00' , '11:00')"
   ]
  },
  {
   "cell_type": "code",
   "execution_count": 33,
   "metadata": {
    "id": "EzXVRE1o_Zcu"
   },
   "outputs": [
    {
     "data": {
      "text/plain": [
       "genre\n",
       "pop            713\n",
       "rock           517\n",
       "dance          495\n",
       "electronic     482\n",
       "hiphop         273\n",
       "world          208\n",
       "ruspop         170\n",
       "alternative    163\n",
       "classical      163\n",
       "rusrap         142\n",
       "Name: genre, dtype: int64"
      ]
     },
     "execution_count": 33,
     "metadata": {},
     "output_type": "execute_result"
    }
   ],
   "source": [
    "# вызов функции для вечера пятницы в Москве\n",
    "genre_weekday(moscow_general, 'Friday', '17:00' , '23:00')"
   ]
  },
  {
   "cell_type": "code",
   "execution_count": 34,
   "metadata": {
    "id": "JZaEKu5v_Zcu"
   },
   "outputs": [
    {
     "data": {
      "text/plain": [
       "genre\n",
       "pop            263\n",
       "rock           208\n",
       "electronic     192\n",
       "dance          191\n",
       "hiphop         104\n",
       "alternative     72\n",
       "classical       71\n",
       "jazz            57\n",
       "rusrap          54\n",
       "ruspop          53\n",
       "Name: genre, dtype: int64"
      ]
     },
     "execution_count": 34,
     "metadata": {},
     "output_type": "execute_result"
    }
   ],
   "source": [
    "# вызов функции для вечера пятницы в Петербурге\n",
    "genre_weekday(spb_general, 'Monday', '17:00' , '23:00')"
   ]
  },
  {
   "cell_type": "markdown",
   "metadata": {},
   "source": [
    "<font color=\"green\">✔️ Комментарий ревьювера       \n",
    "С помощью функции мы получили всю нужную информацию! </font>"
   ]
  },
  {
   "cell_type": "markdown",
   "metadata": {
    "id": "wrCe4MNX_Zcu"
   },
   "source": [
    "**Выводы**\n",
    "\n",
    "Если сравнить топ-10 жанров в понедельник утром, можно сделать такие выводы:\n",
    "\n",
    "1. В Москве и Петербурге слушают похожую музыку. Единственное отличие — в московский рейтинг вошёл жанр “world”, а в петербургский — джаз и классика.\n",
    "\n",
    "\n",
    "\n",
    "2. В Москве пропущенных значений оказалось так много, что значение `'unknown'` заняло десятое место среди самых популярных жанров. Значит, пропущенные значения занимают существенную долю в данных и угрожают достоверности исследования.\n",
    "\n",
    "\n",
    "Вечер пятницы не меняет эту картину. Некоторые жанры поднимаются немного выше, другие спускаются, но в целом топ-10 остаётся тем же самым.\n",
    "\n",
    "Таким образом, вторая гипотеза подтвердилась лишь частично:\n",
    "* Пользователи слушают похожую музыку в начале недели и в конце.\n",
    "* Разница между Москвой и Петербургом не слишком выражена. В Москве чаще слушают русскую популярную музыку, в Петербурге — джаз.\n",
    "\n",
    "\n",
    "Однако пропуски в данных ставят под сомнение этот результат. В Москве их так много, что рейтинг топ-10 мог бы выглядеть иначе, если бы не утерянные  данные о жанрах.\n",
    "\n"
   ]
  },
  {
   "cell_type": "markdown",
   "metadata": {},
   "source": [
    "<font color=\"red\">❌ Комментарий ревьювера   \n",
    "Фукнция сработала не верно, вот и отличия :)</font>\n",
    "<font color='orange'> теперь все мои выводы совпали с требуемыми, спасибо!</font>\n",
    "\n",
    "<font color=\"green\">✔️ Комментарий ревьювера 2      \n",
    "Хорошо</font>\n"
   ]
  },
  {
   "cell_type": "markdown",
   "metadata": {
    "id": "JolODAqr_Zcu"
   },
   "source": [
    "### Жанровые предпочтения в Москве и Петербурге\n",
    "\n",
    "Гипотеза: Петербург — столица рэпа, музыку этого жанра там слушают чаще, чем в Москве.  А Москва — город контрастов, в котором, тем не менее, преобладает поп-музыка."
   ]
  },
  {
   "cell_type": "markdown",
   "metadata": {
    "id": "DlegSvaT_Zcu"
   },
   "source": [
    "Сгруппируйте таблицу `moscow_general` по жанру и посчитайте прослушивания треков каждого жанра методом `count()`. Затем отсортируйте результат в порядке убывания и сохраните его в таблице `moscow_genres`."
   ]
  },
  {
   "cell_type": "code",
   "execution_count": 35,
   "metadata": {
    "id": "r19lIPke_Zcu"
   },
   "outputs": [],
   "source": [
    "# одной строкой: группировка таблицы moscow_general по столбцу 'genre', \n",
    "moscow_general_by_genre=moscow_general.groupby('genre')['genre'].count()\n",
    "moscow_genres=moscow_general_by_genre.sort_values(ascending=False)\n",
    "# подсчёт числа значений 'genre' в этой группировке методом count(), \n",
    "#moscow_general_count=moscow_general.groupby('genre')['genre'].count\n",
    "# сортировка получившегося Series в порядке убывания и сохранение в moscow_genres"
   ]
  },
  {
   "cell_type": "markdown",
   "metadata": {},
   "source": [
    "<font color=\"green\">Комментарий ревьювера       \n",
    "✔️ Все верно</font>"
   ]
  },
  {
   "cell_type": "markdown",
   "metadata": {
    "id": "6kMuomxTiIr8"
   },
   "source": [
    "Выведите на экран первые десять строк `moscow_genres`:"
   ]
  },
  {
   "cell_type": "code",
   "execution_count": 36,
   "metadata": {
    "id": "WhCSooF8_Zcv"
   },
   "outputs": [
    {
     "data": {
      "text/plain": [
       "genre\n",
       "pop            5892\n",
       "dance          4435\n",
       "rock           3965\n",
       "electronic     3786\n",
       "hiphop         2096\n",
       "classical      1616\n",
       "world          1432\n",
       "alternative    1379\n",
       "ruspop         1372\n",
       "rusrap         1161\n",
       "Name: genre, dtype: int64"
      ]
     },
     "execution_count": 36,
     "metadata": {},
     "output_type": "execute_result"
    }
   ],
   "source": [
    "# просмотр первых 10 строк moscow_genres\n",
    "moscow_genres.head(10)"
   ]
  },
  {
   "cell_type": "markdown",
   "metadata": {
    "id": "cnPG2vnN_Zcv"
   },
   "source": [
    "Теперь повторите то же и для Петербурга.\n",
    "\n",
    "Сгруппируйте таблицу `spb_general` по жанру. Посчитайте прослушивания треков каждого жанра. Результат отсортируйте в порядке убывания и сохраните в таблице `spb_genres`:\n"
   ]
  },
  {
   "cell_type": "code",
   "execution_count": 37,
   "metadata": {
    "id": "gluLIpE7_Zcv"
   },
   "outputs": [],
   "source": [
    "# одной строкой: группировка таблицы spb_general по столбцу 'genre', \n",
    "# подсчёт числа значений 'genre' в этой группировке методом count(), \n",
    "# сортировка получившегося Series в порядке убывания и сохранение в spb_genres\n",
    "spb_general_by_genre=spb_general.groupby('genre')['genre'].count()\n",
    "spb_genres=spb_general_by_genre.sort_values(ascending=False)"
   ]
  },
  {
   "cell_type": "markdown",
   "metadata": {
    "id": "5Doha_ODgyQ8"
   },
   "source": [
    "Выведите на экран первые десять строк `spb_genres`:"
   ]
  },
  {
   "cell_type": "code",
   "execution_count": 38,
   "metadata": {
    "id": "uaGJHjVU_Zcv"
   },
   "outputs": [
    {
     "data": {
      "text/plain": [
       "genre\n",
       "pop            2431\n",
       "dance          1932\n",
       "rock           1879\n",
       "electronic     1737\n",
       "hiphop          960\n",
       "alternative     649\n",
       "classical       646\n",
       "rusrap          564\n",
       "ruspop          538\n",
       "world           515\n",
       "Name: genre, dtype: int64"
      ]
     },
     "execution_count": 38,
     "metadata": {},
     "output_type": "execute_result"
    }
   ],
   "source": [
    "# просмотр первых 10 строк spb_genres\n",
    "spb_genres.head(10)"
   ]
  },
  {
   "cell_type": "markdown",
   "metadata": {},
   "source": [
    "<font color=\"green\">✔️ Комментарий ревьювера      \n",
    "Всё работает и считает верно! Данные по Москве и Санкт-Петербургу получены. Отлично!</font>\n"
   ]
  },
  {
   "cell_type": "markdown",
   "metadata": {
    "id": "RY51YJYu_Zcv"
   },
   "source": [
    "**Выводы**"
   ]
  },
  {
   "cell_type": "markdown",
   "metadata": {
    "id": "nVhnJEm__Zcv"
   },
   "source": [
    "Гипотеза частично подтвердилась:\n",
    "* Поп-музыка — самый популярный жанр в Москве, как и предполагала гипотеза. Более того, в топ-10 жанров встречается близкий жанр — русская популярная музыка.\n",
    "* Вопреки ожиданиям, рэп одинаково популярен в Москве и Петербурге. \n"
   ]
  },
  {
   "cell_type": "markdown",
   "metadata": {
    "id": "ykKQ0N65_Zcv"
   },
   "source": [
    "## Итоги исследования"
   ]
  },
  {
   "cell_type": "markdown",
   "metadata": {
    "id": "tjUwbHb3_Zcv"
   },
   "source": [
    "Вы проверили три гипотезы и установили:\n",
    "\n",
    "1. День недели по-разному влияет на активность пользователей в Москве и Петербурге. \n",
    "\n",
    "Первая гипотеза полностью подтвердилась.\n",
    "\n",
    "2. Музыкальные предпочтения не сильно меняются в течение недели — будь то Москва или Петербург. Небольшие различия заметны в начале недели, по понедельникам:\n",
    "* в Москве слушают музыку жанра “world”,\n",
    "* в Петербурге — джаз и классику.\n",
    "\n",
    "Таким образом, вторая гипотеза подтвердилась лишь отчасти. Этот результат мог оказаться иным, если бы не пропуски в данных.\n",
    "\n",
    "**Примечание ученика: см. мои примечания в соответствующих местах исследования**\n",
    "\n",
    "3. Во вкусах пользователей Москвы и Петербурга больше общего чем различий. Вопреки ожиданиям, предпочтения жанров в Петербурге напоминают московские.\n",
    "\n",
    "Третья гипотеза не подтвердилась. Если различия в предпочтениях и существуют, на основной массе пользователей они незаметны.\n",
    "\n",
    "**На практике исследования содержат проверки статистических гипотез.**\n",
    "Из данных одного сервиса не всегда можно сделать вывод о всех жителях города.\n",
    "Проверки статистических гипотез покажут, насколько они достоверны, исходя из имеющихся данных. \n",
    "С методами проверок гипотез вы ещё познакомитесь в следующих темах."
   ]
  },
  {
   "cell_type": "markdown",
   "metadata": {},
   "source": [
    "<font color='green'>В этом задании специалисты Яндекс.Практикума сделали вывод за тебя :)\n",
    "Но в будущем так не будет. Вывод является очень важным этапом проводимого анализа. Именно его обычно читают заказчики (и твои руководители). В нем мы описываем основные итоги работы. Поэтому не забывай уделять ему особое внимание в последующих проектах.</font>\n",
    " \n",
    "<font color='green'>В целом проект сделан очень хорошо, выполнены все пункты задания.   \n",
    "✔️   \n",
    "- Ты правильно используешь большинство изученных методов   \n",
    "- Ты умеешь строить работающие функции   \n",
    "- У тебя получается верно фильтровать данные   \n",
    "Есть небольшие замечания, но это ничего страшного, их исправление позволит сделать проект лучше!  \n",
    " \n",
    "❌   \n",
    "- Попробуй метод .sort_values() для сортировки значений   \n",
    "- не спеши, есть ошибки от невнимательности :)\n",
    " \n",
    "Задавай вопросы если что непонятно.   \n",
    "Жду твою исправленную работу!</font>\n"
   ]
  },
  {
   "cell_type": "markdown",
   "metadata": {},
   "source": [
    "<font color=\"green\">✔️ Комментарий ревьювера 2      \n",
    "Хорошо, принимаем</font>"
   ]
  },
  {
   "cell_type": "code",
   "execution_count": null,
   "metadata": {},
   "outputs": [],
   "source": []
  }
 ],
 "metadata": {
  "ExecuteTimeLog": [
   {
    "duration": 479,
    "start_time": "2022-05-22T11:51:34.797Z"
   },
   {
    "duration": 3,
    "start_time": "2022-05-22T11:51:36.886Z"
   },
   {
    "duration": 456,
    "start_time": "2022-05-22T11:52:37.935Z"
   },
   {
    "duration": 8,
    "start_time": "2022-05-22T11:52:55.734Z"
   },
   {
    "duration": 12,
    "start_time": "2022-05-22T11:53:26.382Z"
   },
   {
    "duration": 45,
    "start_time": "2022-05-22T11:55:33.596Z"
   },
   {
    "duration": 5,
    "start_time": "2022-05-22T12:05:55.473Z"
   },
   {
    "duration": 34,
    "start_time": "2022-05-22T12:06:50.337Z"
   },
   {
    "duration": 37,
    "start_time": "2022-05-22T12:10:32.637Z"
   },
   {
    "duration": 14,
    "start_time": "2022-05-22T12:10:41.526Z"
   },
   {
    "duration": 5,
    "start_time": "2022-05-22T12:10:48.988Z"
   },
   {
    "duration": 22,
    "start_time": "2022-05-22T12:20:05.372Z"
   },
   {
    "duration": 24,
    "start_time": "2022-05-22T12:20:24.498Z"
   },
   {
    "duration": 23,
    "start_time": "2022-05-22T12:23:40.174Z"
   },
   {
    "duration": 23,
    "start_time": "2022-05-22T12:30:41.877Z"
   },
   {
    "duration": 29,
    "start_time": "2022-05-22T12:30:43.500Z"
   },
   {
    "duration": 32,
    "start_time": "2022-05-22T12:30:45.706Z"
   },
   {
    "duration": 32,
    "start_time": "2022-05-22T12:33:44.433Z"
   },
   {
    "duration": 4,
    "start_time": "2022-05-22T12:34:03.076Z"
   },
   {
    "duration": 225,
    "start_time": "2022-05-22T12:34:03.082Z"
   },
   {
    "duration": 7,
    "start_time": "2022-05-22T12:34:03.308Z"
   },
   {
    "duration": 66,
    "start_time": "2022-05-22T12:34:03.317Z"
   },
   {
    "duration": 33,
    "start_time": "2022-05-22T12:34:03.385Z"
   },
   {
    "duration": 35,
    "start_time": "2022-05-22T12:34:03.421Z"
   },
   {
    "duration": 24,
    "start_time": "2022-05-22T12:34:03.458Z"
   },
   {
    "duration": 57,
    "start_time": "2022-05-22T12:34:03.483Z"
   },
   {
    "duration": 29,
    "start_time": "2022-05-22T12:34:03.542Z"
   },
   {
    "duration": 25,
    "start_time": "2022-05-22T12:34:03.574Z"
   },
   {
    "duration": 3,
    "start_time": "2022-05-22T12:34:03.600Z"
   },
   {
    "duration": 13,
    "start_time": "2022-05-22T12:34:03.604Z"
   },
   {
    "duration": 5,
    "start_time": "2022-05-22T12:34:03.618Z"
   },
   {
    "duration": 5,
    "start_time": "2022-05-22T12:34:03.624Z"
   },
   {
    "duration": 4,
    "start_time": "2022-05-22T12:34:03.631Z"
   },
   {
    "duration": 5,
    "start_time": "2022-05-22T12:34:03.637Z"
   },
   {
    "duration": 6,
    "start_time": "2022-05-22T12:34:03.643Z"
   },
   {
    "duration": 5,
    "start_time": "2022-05-22T12:34:03.651Z"
   },
   {
    "duration": 11,
    "start_time": "2022-05-22T12:34:03.657Z"
   },
   {
    "duration": 5,
    "start_time": "2022-05-22T12:34:03.670Z"
   },
   {
    "duration": 10,
    "start_time": "2022-05-22T12:34:03.676Z"
   },
   {
    "duration": 6,
    "start_time": "2022-05-22T12:34:03.687Z"
   },
   {
    "duration": 4,
    "start_time": "2022-05-22T12:34:03.695Z"
   },
   {
    "duration": 2,
    "start_time": "2022-05-22T12:34:03.712Z"
   },
   {
    "duration": 7,
    "start_time": "2022-05-22T12:34:03.716Z"
   },
   {
    "duration": 6,
    "start_time": "2022-05-22T12:34:03.724Z"
   },
   {
    "duration": 6,
    "start_time": "2022-05-22T12:34:03.732Z"
   },
   {
    "duration": 3,
    "start_time": "2022-05-22T12:34:03.741Z"
   },
   {
    "duration": 8,
    "start_time": "2022-05-22T12:34:03.745Z"
   },
   {
    "duration": 5,
    "start_time": "2022-05-22T12:34:03.754Z"
   },
   {
    "duration": 9,
    "start_time": "2022-05-22T12:34:03.761Z"
   },
   {
    "duration": 9,
    "start_time": "2022-05-22T12:34:03.771Z"
   },
   {
    "duration": 8,
    "start_time": "2022-05-22T12:34:03.782Z"
   },
   {
    "duration": 5,
    "start_time": "2022-05-22T12:34:03.792Z"
   },
   {
    "duration": 13,
    "start_time": "2022-05-22T12:34:03.799Z"
   },
   {
    "duration": 4,
    "start_time": "2022-05-22T12:34:03.814Z"
   },
   {
    "duration": 4,
    "start_time": "2022-05-22T12:34:03.820Z"
   },
   {
    "duration": 4,
    "start_time": "2022-05-22T12:34:03.825Z"
   },
   {
    "duration": 22,
    "start_time": "2022-05-22T12:35:06.082Z"
   },
   {
    "duration": 62,
    "start_time": "2022-05-22T12:36:17.480Z"
   },
   {
    "duration": 54,
    "start_time": "2022-05-22T12:36:32.430Z"
   },
   {
    "duration": 51,
    "start_time": "2022-05-22T12:37:04.598Z"
   },
   {
    "duration": 63,
    "start_time": "2022-05-22T12:37:13.293Z"
   },
   {
    "duration": 85,
    "start_time": "2022-05-22T12:39:04.968Z"
   },
   {
    "duration": 62,
    "start_time": "2022-05-22T12:39:32.288Z"
   },
   {
    "duration": 4,
    "start_time": "2022-05-22T12:43:46.541Z"
   },
   {
    "duration": 5,
    "start_time": "2022-05-22T12:44:34.431Z"
   },
   {
    "duration": 5,
    "start_time": "2022-05-22T12:47:00.271Z"
   },
   {
    "duration": 4,
    "start_time": "2022-05-22T12:49:35.280Z"
   },
   {
    "duration": 91,
    "start_time": "2022-05-22T12:50:17.125Z"
   },
   {
    "duration": 10,
    "start_time": "2022-05-22T12:50:32.294Z"
   },
   {
    "duration": 24,
    "start_time": "2022-05-22T12:52:18.973Z"
   },
   {
    "duration": 17,
    "start_time": "2022-05-22T12:52:27.619Z"
   },
   {
    "duration": 19,
    "start_time": "2022-05-22T12:52:46.174Z"
   },
   {
    "duration": 19,
    "start_time": "2022-05-22T12:54:15.478Z"
   },
   {
    "duration": 18,
    "start_time": "2022-05-22T12:54:37.331Z"
   },
   {
    "duration": 3,
    "start_time": "2022-05-22T12:54:41.457Z"
   },
   {
    "duration": 4,
    "start_time": "2022-05-22T12:54:47.181Z"
   },
   {
    "duration": 522,
    "start_time": "2022-05-22T12:55:35.581Z"
   },
   {
    "duration": 3,
    "start_time": "2022-05-22T12:55:45.908Z"
   },
   {
    "duration": 184,
    "start_time": "2022-05-22T12:55:45.914Z"
   },
   {
    "duration": 8,
    "start_time": "2022-05-22T12:55:46.101Z"
   },
   {
    "duration": 68,
    "start_time": "2022-05-22T12:55:46.112Z"
   },
   {
    "duration": 5,
    "start_time": "2022-05-22T12:55:46.182Z"
   },
   {
    "duration": 30,
    "start_time": "2022-05-22T12:55:46.189Z"
   },
   {
    "duration": 12,
    "start_time": "2022-05-22T12:55:46.221Z"
   },
   {
    "duration": 26,
    "start_time": "2022-05-22T12:55:46.234Z"
   },
   {
    "duration": 17,
    "start_time": "2022-05-22T12:55:46.263Z"
   },
   {
    "duration": 43,
    "start_time": "2022-05-22T12:55:46.281Z"
   },
   {
    "duration": 63,
    "start_time": "2022-05-22T12:55:46.330Z"
   },
   {
    "duration": 81,
    "start_time": "2022-05-22T12:55:46.394Z"
   },
   {
    "duration": 72,
    "start_time": "2022-05-22T12:55:46.476Z"
   },
   {
    "duration": 534,
    "start_time": "2022-05-22T12:55:46.550Z"
   },
   {
    "duration": 0,
    "start_time": "2022-05-22T12:55:47.086Z"
   },
   {
    "duration": 0,
    "start_time": "2022-05-22T12:55:47.087Z"
   },
   {
    "duration": 0,
    "start_time": "2022-05-22T12:55:47.088Z"
   },
   {
    "duration": 0,
    "start_time": "2022-05-22T12:55:47.089Z"
   },
   {
    "duration": 0,
    "start_time": "2022-05-22T12:55:47.090Z"
   },
   {
    "duration": 0,
    "start_time": "2022-05-22T12:55:47.091Z"
   },
   {
    "duration": 0,
    "start_time": "2022-05-22T12:55:47.092Z"
   },
   {
    "duration": 0,
    "start_time": "2022-05-22T12:55:47.093Z"
   },
   {
    "duration": 0,
    "start_time": "2022-05-22T12:55:47.094Z"
   },
   {
    "duration": 0,
    "start_time": "2022-05-22T12:55:47.095Z"
   },
   {
    "duration": 0,
    "start_time": "2022-05-22T12:55:47.096Z"
   },
   {
    "duration": 0,
    "start_time": "2022-05-22T12:55:47.097Z"
   },
   {
    "duration": 0,
    "start_time": "2022-05-22T12:55:47.098Z"
   },
   {
    "duration": 0,
    "start_time": "2022-05-22T12:55:47.099Z"
   },
   {
    "duration": 0,
    "start_time": "2022-05-22T12:55:47.100Z"
   },
   {
    "duration": 0,
    "start_time": "2022-05-22T12:55:47.101Z"
   },
   {
    "duration": 0,
    "start_time": "2022-05-22T12:55:47.102Z"
   },
   {
    "duration": 0,
    "start_time": "2022-05-22T12:55:47.103Z"
   },
   {
    "duration": 0,
    "start_time": "2022-05-22T12:55:47.104Z"
   },
   {
    "duration": 0,
    "start_time": "2022-05-22T12:55:47.105Z"
   },
   {
    "duration": 0,
    "start_time": "2022-05-22T12:55:47.106Z"
   },
   {
    "duration": 0,
    "start_time": "2022-05-22T12:55:47.107Z"
   },
   {
    "duration": 0,
    "start_time": "2022-05-22T12:55:47.109Z"
   },
   {
    "duration": 0,
    "start_time": "2022-05-22T12:55:47.110Z"
   },
   {
    "duration": 9,
    "start_time": "2022-05-22T12:56:10.872Z"
   },
   {
    "duration": 604,
    "start_time": "2022-05-22T12:56:19.566Z"
   },
   {
    "duration": 16,
    "start_time": "2022-05-22T12:56:32.760Z"
   },
   {
    "duration": 5,
    "start_time": "2022-05-22T13:02:43.271Z"
   },
   {
    "duration": 11,
    "start_time": "2022-05-22T13:05:03.109Z"
   },
   {
    "duration": 9,
    "start_time": "2022-05-22T13:06:16.789Z"
   },
   {
    "duration": 10,
    "start_time": "2022-05-22T13:06:26.958Z"
   },
   {
    "duration": 9,
    "start_time": "2022-05-22T13:06:36.278Z"
   },
   {
    "duration": 37,
    "start_time": "2022-05-22T13:10:32.507Z"
   },
   {
    "duration": 5,
    "start_time": "2022-05-22T13:11:32.463Z"
   },
   {
    "duration": 16,
    "start_time": "2022-05-22T13:20:48.357Z"
   },
   {
    "duration": 4,
    "start_time": "2022-05-22T13:21:13.835Z"
   },
   {
    "duration": 10,
    "start_time": "2022-05-22T13:24:15.481Z"
   },
   {
    "duration": 8,
    "start_time": "2022-05-22T13:24:22.368Z"
   },
   {
    "duration": 5,
    "start_time": "2022-05-22T13:25:16.570Z"
   },
   {
    "duration": 16,
    "start_time": "2022-05-22T13:26:17.939Z"
   },
   {
    "duration": 17,
    "start_time": "2022-05-22T13:28:00.861Z"
   },
   {
    "duration": 23,
    "start_time": "2022-05-22T13:28:15.865Z"
   },
   {
    "duration": 17,
    "start_time": "2022-05-22T13:28:21.230Z"
   },
   {
    "duration": 20,
    "start_time": "2022-05-22T13:28:30.609Z"
   },
   {
    "duration": 21,
    "start_time": "2022-05-22T13:29:17.502Z"
   },
   {
    "duration": 12,
    "start_time": "2022-05-22T13:30:17.408Z"
   },
   {
    "duration": 6,
    "start_time": "2022-05-22T13:32:14.286Z"
   },
   {
    "duration": 3,
    "start_time": "2022-05-22T13:50:25.831Z"
   },
   {
    "duration": 9,
    "start_time": "2022-05-22T13:54:09.309Z"
   },
   {
    "duration": 12,
    "start_time": "2022-05-22T13:54:35.500Z"
   },
   {
    "duration": 2,
    "start_time": "2022-05-22T13:54:49.226Z"
   },
   {
    "duration": 170,
    "start_time": "2022-05-22T13:54:49.230Z"
   },
   {
    "duration": 7,
    "start_time": "2022-05-22T13:54:49.402Z"
   },
   {
    "duration": 27,
    "start_time": "2022-05-22T13:54:49.412Z"
   },
   {
    "duration": 4,
    "start_time": "2022-05-22T13:54:49.442Z"
   },
   {
    "duration": 13,
    "start_time": "2022-05-22T13:54:49.447Z"
   },
   {
    "duration": 5,
    "start_time": "2022-05-22T13:54:49.461Z"
   },
   {
    "duration": 49,
    "start_time": "2022-05-22T13:54:49.467Z"
   },
   {
    "duration": 19,
    "start_time": "2022-05-22T13:54:49.517Z"
   },
   {
    "duration": 21,
    "start_time": "2022-05-22T13:54:49.538Z"
   },
   {
    "duration": 79,
    "start_time": "2022-05-22T13:54:49.563Z"
   },
   {
    "duration": 77,
    "start_time": "2022-05-22T13:54:49.644Z"
   },
   {
    "duration": 48,
    "start_time": "2022-05-22T13:54:49.722Z"
   },
   {
    "duration": 4,
    "start_time": "2022-05-22T13:54:49.772Z"
   },
   {
    "duration": 6,
    "start_time": "2022-05-22T13:54:49.777Z"
   },
   {
    "duration": 32,
    "start_time": "2022-05-22T13:54:49.784Z"
   },
   {
    "duration": 0,
    "start_time": "2022-05-22T13:54:49.818Z"
   },
   {
    "duration": 0,
    "start_time": "2022-05-22T13:54:49.819Z"
   },
   {
    "duration": 0,
    "start_time": "2022-05-22T13:54:49.820Z"
   },
   {
    "duration": 0,
    "start_time": "2022-05-22T13:54:49.821Z"
   },
   {
    "duration": 0,
    "start_time": "2022-05-22T13:54:49.822Z"
   },
   {
    "duration": 0,
    "start_time": "2022-05-22T13:54:49.823Z"
   },
   {
    "duration": 0,
    "start_time": "2022-05-22T13:54:49.824Z"
   },
   {
    "duration": 0,
    "start_time": "2022-05-22T13:54:49.825Z"
   },
   {
    "duration": 0,
    "start_time": "2022-05-22T13:54:49.826Z"
   },
   {
    "duration": 0,
    "start_time": "2022-05-22T13:54:49.827Z"
   },
   {
    "duration": 0,
    "start_time": "2022-05-22T13:54:49.828Z"
   },
   {
    "duration": 0,
    "start_time": "2022-05-22T13:54:49.829Z"
   },
   {
    "duration": 0,
    "start_time": "2022-05-22T13:54:49.829Z"
   },
   {
    "duration": 0,
    "start_time": "2022-05-22T13:54:49.830Z"
   },
   {
    "duration": 0,
    "start_time": "2022-05-22T13:54:49.831Z"
   },
   {
    "duration": 0,
    "start_time": "2022-05-22T13:54:49.833Z"
   },
   {
    "duration": 0,
    "start_time": "2022-05-22T13:54:49.833Z"
   },
   {
    "duration": 0,
    "start_time": "2022-05-22T13:54:49.834Z"
   },
   {
    "duration": 0,
    "start_time": "2022-05-22T13:54:49.835Z"
   },
   {
    "duration": 0,
    "start_time": "2022-05-22T13:54:49.836Z"
   },
   {
    "duration": 0,
    "start_time": "2022-05-22T13:54:49.837Z"
   },
   {
    "duration": 0,
    "start_time": "2022-05-22T13:54:49.838Z"
   },
   {
    "duration": 3,
    "start_time": "2022-05-22T13:56:54.426Z"
   },
   {
    "duration": 39,
    "start_time": "2022-05-22T13:57:12.066Z"
   },
   {
    "duration": 3,
    "start_time": "2022-05-22T13:57:18.786Z"
   },
   {
    "duration": 12,
    "start_time": "2022-05-22T13:58:25.116Z"
   },
   {
    "duration": 3,
    "start_time": "2022-05-22T13:58:44.505Z"
   },
   {
    "duration": 3,
    "start_time": "2022-05-22T13:58:47.354Z"
   },
   {
    "duration": 8,
    "start_time": "2022-05-22T14:04:01.492Z"
   },
   {
    "duration": 12,
    "start_time": "2022-05-22T14:04:52.270Z"
   },
   {
    "duration": 7,
    "start_time": "2022-05-22T14:04:59.183Z"
   },
   {
    "duration": 8,
    "start_time": "2022-05-22T14:05:19.295Z"
   },
   {
    "duration": 7,
    "start_time": "2022-05-22T14:05:32.095Z"
   },
   {
    "duration": 14,
    "start_time": "2022-05-22T14:05:52.558Z"
   },
   {
    "duration": 7,
    "start_time": "2022-05-22T14:06:15.613Z"
   },
   {
    "duration": 7,
    "start_time": "2022-05-22T14:06:32.190Z"
   },
   {
    "duration": 6,
    "start_time": "2022-05-22T14:06:37.277Z"
   },
   {
    "duration": 11,
    "start_time": "2022-05-22T14:09:19.188Z"
   },
   {
    "duration": 5,
    "start_time": "2022-05-22T14:13:23.688Z"
   },
   {
    "duration": 2,
    "start_time": "2022-05-22T14:15:44.607Z"
   },
   {
    "duration": 8,
    "start_time": "2022-05-22T14:19:15.269Z"
   },
   {
    "duration": 11,
    "start_time": "2022-05-22T14:21:06.630Z"
   },
   {
    "duration": 11,
    "start_time": "2022-05-22T14:22:18.236Z"
   },
   {
    "duration": 9,
    "start_time": "2022-05-22T14:24:40.226Z"
   },
   {
    "duration": 12,
    "start_time": "2022-05-22T14:25:22.770Z"
   },
   {
    "duration": 8,
    "start_time": "2022-05-22T14:27:25.768Z"
   },
   {
    "duration": 3,
    "start_time": "2022-05-22T14:30:21.544Z"
   },
   {
    "duration": 4,
    "start_time": "2022-05-22T14:38:04.155Z"
   },
   {
    "duration": 545,
    "start_time": "2022-05-22T14:38:56.642Z"
   },
   {
    "duration": 622,
    "start_time": "2022-05-22T14:39:34.242Z"
   },
   {
    "duration": 3,
    "start_time": "2022-05-22T14:40:31.056Z"
   },
   {
    "duration": 186,
    "start_time": "2022-05-22T14:40:31.060Z"
   },
   {
    "duration": 7,
    "start_time": "2022-05-22T14:40:31.247Z"
   },
   {
    "duration": 36,
    "start_time": "2022-05-22T14:40:31.255Z"
   },
   {
    "duration": 6,
    "start_time": "2022-05-22T14:40:31.293Z"
   },
   {
    "duration": 25,
    "start_time": "2022-05-22T14:40:31.300Z"
   },
   {
    "duration": 6,
    "start_time": "2022-05-22T14:40:31.327Z"
   },
   {
    "duration": 25,
    "start_time": "2022-05-22T14:40:31.334Z"
   },
   {
    "duration": 17,
    "start_time": "2022-05-22T14:40:31.361Z"
   },
   {
    "duration": 50,
    "start_time": "2022-05-22T14:40:31.380Z"
   },
   {
    "duration": 75,
    "start_time": "2022-05-22T14:40:31.435Z"
   },
   {
    "duration": 83,
    "start_time": "2022-05-22T14:40:31.512Z"
   },
   {
    "duration": 74,
    "start_time": "2022-05-22T14:40:31.597Z"
   },
   {
    "duration": 6,
    "start_time": "2022-05-22T14:40:31.673Z"
   },
   {
    "duration": 9,
    "start_time": "2022-05-22T14:40:31.681Z"
   },
   {
    "duration": 24,
    "start_time": "2022-05-22T14:40:31.691Z"
   },
   {
    "duration": 0,
    "start_time": "2022-05-22T14:40:31.718Z"
   },
   {
    "duration": 0,
    "start_time": "2022-05-22T14:40:31.718Z"
   },
   {
    "duration": 0,
    "start_time": "2022-05-22T14:40:31.719Z"
   },
   {
    "duration": 0,
    "start_time": "2022-05-22T14:40:31.720Z"
   },
   {
    "duration": 0,
    "start_time": "2022-05-22T14:40:31.721Z"
   },
   {
    "duration": 0,
    "start_time": "2022-05-22T14:40:31.722Z"
   },
   {
    "duration": 0,
    "start_time": "2022-05-22T14:40:31.723Z"
   },
   {
    "duration": 0,
    "start_time": "2022-05-22T14:40:31.723Z"
   },
   {
    "duration": 0,
    "start_time": "2022-05-22T14:40:31.724Z"
   },
   {
    "duration": 0,
    "start_time": "2022-05-22T14:40:31.726Z"
   },
   {
    "duration": 0,
    "start_time": "2022-05-22T14:40:31.727Z"
   },
   {
    "duration": 0,
    "start_time": "2022-05-22T14:40:31.727Z"
   },
   {
    "duration": 0,
    "start_time": "2022-05-22T14:40:31.728Z"
   },
   {
    "duration": 0,
    "start_time": "2022-05-22T14:40:31.729Z"
   },
   {
    "duration": 0,
    "start_time": "2022-05-22T14:40:31.732Z"
   },
   {
    "duration": 0,
    "start_time": "2022-05-22T14:40:31.734Z"
   },
   {
    "duration": 0,
    "start_time": "2022-05-22T14:40:31.734Z"
   },
   {
    "duration": 0,
    "start_time": "2022-05-22T14:40:31.735Z"
   },
   {
    "duration": 0,
    "start_time": "2022-05-22T14:40:31.736Z"
   },
   {
    "duration": 0,
    "start_time": "2022-05-22T14:40:31.737Z"
   },
   {
    "duration": 0,
    "start_time": "2022-05-22T14:40:31.737Z"
   },
   {
    "duration": 0,
    "start_time": "2022-05-22T14:40:31.738Z"
   },
   {
    "duration": 55,
    "start_time": "2022-05-22T14:42:17.346Z"
   },
   {
    "duration": 424,
    "start_time": "2022-05-22T14:42:36.015Z"
   },
   {
    "duration": 173,
    "start_time": "2022-05-22T14:42:36.442Z"
   },
   {
    "duration": 10,
    "start_time": "2022-05-22T14:42:36.616Z"
   },
   {
    "duration": 33,
    "start_time": "2022-05-22T14:42:36.628Z"
   },
   {
    "duration": 10,
    "start_time": "2022-05-22T14:42:36.663Z"
   },
   {
    "duration": 19,
    "start_time": "2022-05-22T14:42:36.674Z"
   },
   {
    "duration": 4,
    "start_time": "2022-05-22T14:42:36.712Z"
   },
   {
    "duration": 30,
    "start_time": "2022-05-22T14:42:36.718Z"
   },
   {
    "duration": 19,
    "start_time": "2022-05-22T14:42:36.749Z"
   },
   {
    "duration": 21,
    "start_time": "2022-05-22T14:42:36.771Z"
   },
   {
    "duration": 77,
    "start_time": "2022-05-22T14:42:36.793Z"
   },
   {
    "duration": 101,
    "start_time": "2022-05-22T14:42:36.872Z"
   },
   {
    "duration": 68,
    "start_time": "2022-05-22T14:42:36.975Z"
   },
   {
    "duration": 6,
    "start_time": "2022-05-22T14:42:37.045Z"
   },
   {
    "duration": 5,
    "start_time": "2022-05-22T14:42:37.052Z"
   },
   {
    "duration": 33,
    "start_time": "2022-05-22T14:42:37.059Z"
   },
   {
    "duration": 0,
    "start_time": "2022-05-22T14:42:37.094Z"
   },
   {
    "duration": 0,
    "start_time": "2022-05-22T14:42:37.095Z"
   },
   {
    "duration": 0,
    "start_time": "2022-05-22T14:42:37.112Z"
   },
   {
    "duration": 0,
    "start_time": "2022-05-22T14:42:37.113Z"
   },
   {
    "duration": 0,
    "start_time": "2022-05-22T14:42:37.114Z"
   },
   {
    "duration": 0,
    "start_time": "2022-05-22T14:42:37.115Z"
   },
   {
    "duration": 0,
    "start_time": "2022-05-22T14:42:37.116Z"
   },
   {
    "duration": 0,
    "start_time": "2022-05-22T14:42:37.117Z"
   },
   {
    "duration": 0,
    "start_time": "2022-05-22T14:42:37.118Z"
   },
   {
    "duration": 0,
    "start_time": "2022-05-22T14:42:37.119Z"
   },
   {
    "duration": 0,
    "start_time": "2022-05-22T14:42:37.120Z"
   },
   {
    "duration": 0,
    "start_time": "2022-05-22T14:42:37.121Z"
   },
   {
    "duration": 0,
    "start_time": "2022-05-22T14:42:37.122Z"
   },
   {
    "duration": 0,
    "start_time": "2022-05-22T14:42:37.123Z"
   },
   {
    "duration": 0,
    "start_time": "2022-05-22T14:42:37.124Z"
   },
   {
    "duration": 0,
    "start_time": "2022-05-22T14:42:37.125Z"
   },
   {
    "duration": 0,
    "start_time": "2022-05-22T14:42:37.126Z"
   },
   {
    "duration": 0,
    "start_time": "2022-05-22T14:42:37.127Z"
   },
   {
    "duration": 0,
    "start_time": "2022-05-22T14:42:37.128Z"
   },
   {
    "duration": 0,
    "start_time": "2022-05-22T14:42:37.129Z"
   },
   {
    "duration": 0,
    "start_time": "2022-05-22T14:42:37.130Z"
   },
   {
    "duration": 0,
    "start_time": "2022-05-22T14:42:37.131Z"
   },
   {
    "duration": 7,
    "start_time": "2022-05-22T14:43:56.919Z"
   },
   {
    "duration": 5,
    "start_time": "2022-05-22T14:44:12.958Z"
   },
   {
    "duration": 3,
    "start_time": "2022-05-22T14:44:16.104Z"
   },
   {
    "duration": 10,
    "start_time": "2022-05-22T14:44:18.050Z"
   },
   {
    "duration": 6,
    "start_time": "2022-05-22T14:44:21.390Z"
   },
   {
    "duration": 3,
    "start_time": "2022-05-22T14:45:05.407Z"
   },
   {
    "duration": 10,
    "start_time": "2022-05-22T14:45:07.502Z"
   },
   {
    "duration": 3,
    "start_time": "2022-05-22T14:45:31.350Z"
   },
   {
    "duration": 11,
    "start_time": "2022-05-22T14:45:34.786Z"
   },
   {
    "duration": 5,
    "start_time": "2022-05-22T14:45:40.487Z"
   },
   {
    "duration": 12,
    "start_time": "2022-05-22T15:04:10.349Z"
   },
   {
    "duration": 8,
    "start_time": "2022-05-22T15:04:44.886Z"
   },
   {
    "duration": 15,
    "start_time": "2022-05-22T15:05:31.441Z"
   },
   {
    "duration": 31,
    "start_time": "2022-05-22T15:06:19.326Z"
   },
   {
    "duration": 31,
    "start_time": "2022-05-22T15:06:32.236Z"
   },
   {
    "duration": 7,
    "start_time": "2022-05-22T15:10:32.571Z"
   },
   {
    "duration": 32,
    "start_time": "2022-05-22T15:11:20.410Z"
   },
   {
    "duration": 32,
    "start_time": "2022-05-22T15:12:06.650Z"
   },
   {
    "duration": 30,
    "start_time": "2022-05-22T15:26:14.834Z"
   },
   {
    "duration": 5,
    "start_time": "2022-05-22T15:26:25.281Z"
   },
   {
    "duration": 32,
    "start_time": "2022-05-22T15:26:47.609Z"
   },
   {
    "duration": 4,
    "start_time": "2022-05-22T15:26:55.080Z"
   },
   {
    "duration": 10,
    "start_time": "2022-05-22T15:28:04.145Z"
   },
   {
    "duration": 8,
    "start_time": "2022-05-22T15:28:19.461Z"
   },
   {
    "duration": 8,
    "start_time": "2022-05-22T15:28:30.631Z"
   },
   {
    "duration": 8,
    "start_time": "2022-05-22T15:28:36.231Z"
   },
   {
    "duration": 6,
    "start_time": "2022-05-22T15:28:50.253Z"
   },
   {
    "duration": 12,
    "start_time": "2022-05-22T15:30:05.206Z"
   },
   {
    "duration": 7,
    "start_time": "2022-05-22T15:30:12.654Z"
   },
   {
    "duration": 10,
    "start_time": "2022-05-22T15:30:22.446Z"
   },
   {
    "duration": 5,
    "start_time": "2022-05-22T15:30:51.519Z"
   },
   {
    "duration": 4,
    "start_time": "2022-05-22T15:30:53.065Z"
   },
   {
    "duration": 13,
    "start_time": "2022-05-22T15:30:54.502Z"
   },
   {
    "duration": 14,
    "start_time": "2022-05-22T15:31:09.870Z"
   },
   {
    "duration": 17,
    "start_time": "2022-05-22T15:31:27.529Z"
   },
   {
    "duration": 4,
    "start_time": "2022-05-22T15:31:29.337Z"
   },
   {
    "duration": 33,
    "start_time": "2022-05-22T15:31:30.997Z"
   },
   {
    "duration": 36,
    "start_time": "2022-05-22T15:33:45.396Z"
   },
   {
    "duration": 25,
    "start_time": "2022-05-22T15:35:36.144Z"
   },
   {
    "duration": 21,
    "start_time": "2022-05-22T15:35:38.405Z"
   },
   {
    "duration": 14,
    "start_time": "2022-05-22T15:35:41.131Z"
   },
   {
    "duration": 20,
    "start_time": "2022-05-22T15:35:43.178Z"
   },
   {
    "duration": 16,
    "start_time": "2022-05-22T15:35:46.956Z"
   },
   {
    "duration": 19,
    "start_time": "2022-05-22T15:35:49.227Z"
   },
   {
    "duration": 8,
    "start_time": "2022-05-22T15:47:29.752Z"
   },
   {
    "duration": 8,
    "start_time": "2022-05-22T15:47:44.862Z"
   },
   {
    "duration": 9,
    "start_time": "2022-05-22T15:48:27.965Z"
   },
   {
    "duration": 17,
    "start_time": "2022-05-22T15:52:44.041Z"
   },
   {
    "duration": 12,
    "start_time": "2022-05-22T15:54:39.082Z"
   },
   {
    "duration": 24,
    "start_time": "2022-05-22T15:55:26.620Z"
   },
   {
    "duration": 31,
    "start_time": "2022-05-22T15:55:44.210Z"
   },
   {
    "duration": 21,
    "start_time": "2022-05-22T15:55:47.777Z"
   },
   {
    "duration": 37,
    "start_time": "2022-05-22T15:56:14.010Z"
   },
   {
    "duration": 23,
    "start_time": "2022-05-22T15:56:15.732Z"
   },
   {
    "duration": 11,
    "start_time": "2022-05-22T16:02:44.140Z"
   },
   {
    "duration": 64,
    "start_time": "2022-05-22T16:06:13.298Z"
   },
   {
    "duration": 85,
    "start_time": "2022-05-22T16:06:22.158Z"
   },
   {
    "duration": 5,
    "start_time": "2022-05-22T16:06:35.601Z"
   },
   {
    "duration": 48,
    "start_time": "2022-05-22T16:07:05.682Z"
   },
   {
    "duration": 70,
    "start_time": "2022-05-22T16:07:41.827Z"
   },
   {
    "duration": 7,
    "start_time": "2022-05-22T16:08:51.545Z"
   },
   {
    "duration": 40,
    "start_time": "2022-05-22T16:09:10.561Z"
   },
   {
    "duration": 51,
    "start_time": "2022-05-22T16:09:50.140Z"
   },
   {
    "duration": 10,
    "start_time": "2022-05-22T16:10:12.838Z"
   },
   {
    "duration": 4,
    "start_time": "2022-05-22T16:10:19.887Z"
   },
   {
    "duration": 42,
    "start_time": "2022-05-22T16:10:23.007Z"
   },
   {
    "duration": 42,
    "start_time": "2022-05-22T16:10:59.207Z"
   },
   {
    "duration": 10,
    "start_time": "2022-05-22T16:11:41.806Z"
   },
   {
    "duration": 34,
    "start_time": "2022-05-22T16:11:50.242Z"
   },
   {
    "duration": 5,
    "start_time": "2022-05-22T16:12:08.745Z"
   },
   {
    "duration": 35,
    "start_time": "2022-05-22T16:12:10.886Z"
   },
   {
    "duration": 10,
    "start_time": "2022-05-22T16:12:50.531Z"
   },
   {
    "duration": 49,
    "start_time": "2022-05-22T16:12:52.966Z"
   },
   {
    "duration": 5,
    "start_time": "2022-05-22T16:16:17.261Z"
   },
   {
    "duration": 36,
    "start_time": "2022-05-22T16:16:21.573Z"
   },
   {
    "duration": 55,
    "start_time": "2022-05-22T16:16:35.727Z"
   },
   {
    "duration": 5,
    "start_time": "2022-05-22T16:16:48.677Z"
   },
   {
    "duration": 35,
    "start_time": "2022-05-22T16:16:50.403Z"
   },
   {
    "duration": 5,
    "start_time": "2022-05-22T16:18:41.358Z"
   },
   {
    "duration": 17,
    "start_time": "2022-05-22T16:18:43.858Z"
   },
   {
    "duration": 5,
    "start_time": "2022-05-22T16:19:00.771Z"
   },
   {
    "duration": 43,
    "start_time": "2022-05-22T16:19:04.287Z"
   },
   {
    "duration": 7,
    "start_time": "2022-05-22T16:19:11.719Z"
   },
   {
    "duration": 45,
    "start_time": "2022-05-22T16:19:14.490Z"
   },
   {
    "duration": 50,
    "start_time": "2022-05-22T16:19:56.851Z"
   },
   {
    "duration": 88,
    "start_time": "2022-05-22T16:20:22.698Z"
   },
   {
    "duration": 4,
    "start_time": "2022-05-22T16:20:29.682Z"
   },
   {
    "duration": 56,
    "start_time": "2022-05-22T16:20:33.202Z"
   },
   {
    "duration": 4,
    "start_time": "2022-05-22T16:21:00.793Z"
   },
   {
    "duration": 40,
    "start_time": "2022-05-22T16:21:03.350Z"
   },
   {
    "duration": 6,
    "start_time": "2022-05-22T16:22:22.540Z"
   },
   {
    "duration": 37,
    "start_time": "2022-05-22T16:22:24.741Z"
   },
   {
    "duration": 6,
    "start_time": "2022-05-22T16:22:58.289Z"
   },
   {
    "duration": 54,
    "start_time": "2022-05-22T16:23:00.490Z"
   },
   {
    "duration": 5,
    "start_time": "2022-05-22T16:24:13.487Z"
   },
   {
    "duration": 47,
    "start_time": "2022-05-22T16:24:15.943Z"
   },
   {
    "duration": 11,
    "start_time": "2022-05-22T16:25:51.341Z"
   },
   {
    "duration": 50,
    "start_time": "2022-05-22T16:25:54.540Z"
   },
   {
    "duration": 7,
    "start_time": "2022-05-22T16:27:04.302Z"
   },
   {
    "duration": 48,
    "start_time": "2022-05-22T16:27:07.085Z"
   },
   {
    "duration": 4,
    "start_time": "2022-05-22T16:27:22.076Z"
   },
   {
    "duration": 37,
    "start_time": "2022-05-22T16:27:23.947Z"
   },
   {
    "duration": 7,
    "start_time": "2022-05-22T16:29:42.938Z"
   },
   {
    "duration": 37,
    "start_time": "2022-05-22T16:29:44.742Z"
   },
   {
    "duration": 8,
    "start_time": "2022-05-22T16:30:08.133Z"
   },
   {
    "duration": 47,
    "start_time": "2022-05-22T16:30:09.609Z"
   },
   {
    "duration": 4,
    "start_time": "2022-05-22T16:30:25.436Z"
   },
   {
    "duration": 40,
    "start_time": "2022-05-22T16:30:27.340Z"
   },
   {
    "duration": 6,
    "start_time": "2022-05-22T16:30:58.433Z"
   },
   {
    "duration": 30,
    "start_time": "2022-05-22T16:31:00.665Z"
   },
   {
    "duration": 6,
    "start_time": "2022-05-22T16:31:11.627Z"
   },
   {
    "duration": 29,
    "start_time": "2022-05-22T16:31:13.622Z"
   },
   {
    "duration": 17,
    "start_time": "2022-05-22T16:32:28.921Z"
   },
   {
    "duration": 28,
    "start_time": "2022-05-22T16:32:30.962Z"
   },
   {
    "duration": 17,
    "start_time": "2022-05-22T16:32:32.431Z"
   },
   {
    "duration": 28,
    "start_time": "2022-05-22T16:33:38.295Z"
   },
   {
    "duration": 29,
    "start_time": "2022-05-22T16:33:39.951Z"
   },
   {
    "duration": 4,
    "start_time": "2022-05-22T16:33:59.265Z"
   },
   {
    "duration": 25,
    "start_time": "2022-05-22T16:34:01.232Z"
   },
   {
    "duration": 18,
    "start_time": "2022-05-22T16:34:04.454Z"
   },
   {
    "duration": 31,
    "start_time": "2022-05-22T16:34:09.703Z"
   },
   {
    "duration": 17,
    "start_time": "2022-05-22T16:34:14.567Z"
   },
   {
    "duration": 404,
    "start_time": "2022-05-22T16:34:53.167Z"
   },
   {
    "duration": 185,
    "start_time": "2022-05-22T16:34:53.573Z"
   },
   {
    "duration": 9,
    "start_time": "2022-05-22T16:34:53.760Z"
   },
   {
    "duration": 44,
    "start_time": "2022-05-22T16:34:53.771Z"
   },
   {
    "duration": 15,
    "start_time": "2022-05-22T16:34:53.817Z"
   },
   {
    "duration": 16,
    "start_time": "2022-05-22T16:34:53.834Z"
   },
   {
    "duration": 9,
    "start_time": "2022-05-22T16:34:53.851Z"
   },
   {
    "duration": 28,
    "start_time": "2022-05-22T16:34:53.861Z"
   },
   {
    "duration": 41,
    "start_time": "2022-05-22T16:34:53.891Z"
   },
   {
    "duration": 25,
    "start_time": "2022-05-22T16:34:53.935Z"
   },
   {
    "duration": 85,
    "start_time": "2022-05-22T16:34:53.962Z"
   },
   {
    "duration": 81,
    "start_time": "2022-05-22T16:34:54.048Z"
   },
   {
    "duration": 55,
    "start_time": "2022-05-22T16:34:54.131Z"
   },
   {
    "duration": 6,
    "start_time": "2022-05-22T16:34:54.187Z"
   },
   {
    "duration": 23,
    "start_time": "2022-05-22T16:34:54.195Z"
   },
   {
    "duration": 21,
    "start_time": "2022-05-22T16:34:54.223Z"
   },
   {
    "duration": 6,
    "start_time": "2022-05-22T16:34:54.246Z"
   },
   {
    "duration": 34,
    "start_time": "2022-05-22T16:34:54.253Z"
   },
   {
    "duration": 48,
    "start_time": "2022-05-22T16:34:54.289Z"
   },
   {
    "duration": 3,
    "start_time": "2022-05-22T16:34:54.340Z"
   },
   {
    "duration": 39,
    "start_time": "2022-05-22T16:34:54.345Z"
   },
   {
    "duration": 15,
    "start_time": "2022-05-22T16:34:54.386Z"
   },
   {
    "duration": 22,
    "start_time": "2022-05-22T16:34:54.416Z"
   },
   {
    "duration": 15,
    "start_time": "2022-05-22T16:34:54.440Z"
   },
   {
    "duration": 17,
    "start_time": "2022-05-22T16:34:54.458Z"
   },
   {
    "duration": 52,
    "start_time": "2022-05-22T16:34:54.476Z"
   },
   {
    "duration": 13,
    "start_time": "2022-05-22T16:34:54.531Z"
   },
   {
    "duration": 22,
    "start_time": "2022-05-22T16:34:54.548Z"
   },
   {
    "duration": 26,
    "start_time": "2022-05-22T16:34:54.572Z"
   },
   {
    "duration": 9,
    "start_time": "2022-05-22T16:34:54.612Z"
   },
   {
    "duration": 48,
    "start_time": "2022-05-22T16:34:54.623Z"
   },
   {
    "duration": 19,
    "start_time": "2022-05-22T16:34:54.673Z"
   },
   {
    "duration": 44,
    "start_time": "2022-05-22T16:34:54.694Z"
   },
   {
    "duration": 18,
    "start_time": "2022-05-22T16:34:54.740Z"
   },
   {
    "duration": 7,
    "start_time": "2022-05-22T16:34:54.760Z"
   },
   {
    "duration": 5,
    "start_time": "2022-05-22T16:34:54.769Z"
   },
   {
    "duration": 4,
    "start_time": "2022-05-22T16:34:54.776Z"
   },
   {
    "duration": 6,
    "start_time": "2022-05-22T16:34:54.782Z"
   },
   {
    "duration": 28,
    "start_time": "2022-05-22T16:35:50.345Z"
   },
   {
    "duration": 20,
    "start_time": "2022-05-22T16:35:57.464Z"
   },
   {
    "duration": 2,
    "start_time": "2022-05-22T16:38:57.841Z"
   },
   {
    "duration": 186,
    "start_time": "2022-05-22T16:38:57.859Z"
   },
   {
    "duration": 6,
    "start_time": "2022-05-22T16:38:58.047Z"
   },
   {
    "duration": 29,
    "start_time": "2022-05-22T16:38:58.054Z"
   },
   {
    "duration": 3,
    "start_time": "2022-05-22T16:38:58.085Z"
   },
   {
    "duration": 33,
    "start_time": "2022-05-22T16:38:58.113Z"
   },
   {
    "duration": 4,
    "start_time": "2022-05-22T16:38:58.148Z"
   },
   {
    "duration": 22,
    "start_time": "2022-05-22T16:38:58.154Z"
   },
   {
    "duration": 17,
    "start_time": "2022-05-22T16:38:58.178Z"
   },
   {
    "duration": 38,
    "start_time": "2022-05-22T16:38:58.197Z"
   },
   {
    "duration": 73,
    "start_time": "2022-05-22T16:38:58.236Z"
   },
   {
    "duration": 70,
    "start_time": "2022-05-22T16:38:58.311Z"
   },
   {
    "duration": 74,
    "start_time": "2022-05-22T16:38:58.383Z"
   },
   {
    "duration": 6,
    "start_time": "2022-05-22T16:38:58.459Z"
   },
   {
    "duration": 6,
    "start_time": "2022-05-22T16:38:58.468Z"
   },
   {
    "duration": 11,
    "start_time": "2022-05-22T16:38:58.476Z"
   },
   {
    "duration": 7,
    "start_time": "2022-05-22T16:38:58.488Z"
   },
   {
    "duration": 55,
    "start_time": "2022-05-22T16:38:58.497Z"
   },
   {
    "duration": 28,
    "start_time": "2022-05-22T16:38:58.553Z"
   },
   {
    "duration": 3,
    "start_time": "2022-05-22T16:38:58.583Z"
   },
   {
    "duration": 57,
    "start_time": "2022-05-22T16:38:58.588Z"
   },
   {
    "duration": 13,
    "start_time": "2022-05-22T16:38:58.646Z"
   },
   {
    "duration": 23,
    "start_time": "2022-05-22T16:38:58.661Z"
   },
   {
    "duration": 28,
    "start_time": "2022-05-22T16:38:58.686Z"
   },
   {
    "duration": 19,
    "start_time": "2022-05-22T16:38:58.732Z"
   },
   {
    "duration": 15,
    "start_time": "2022-05-22T16:38:58.752Z"
   },
   {
    "duration": 9,
    "start_time": "2022-05-22T16:38:58.768Z"
   },
   {
    "duration": 28,
    "start_time": "2022-05-22T16:38:58.778Z"
   },
   {
    "duration": 35,
    "start_time": "2022-05-22T16:38:58.807Z"
   },
   {
    "duration": 9,
    "start_time": "2022-05-22T16:38:58.844Z"
   },
   {
    "duration": 29,
    "start_time": "2022-05-22T16:38:58.854Z"
   },
   {
    "duration": 14,
    "start_time": "2022-05-22T16:38:58.885Z"
   },
   {
    "duration": 42,
    "start_time": "2022-05-22T16:38:58.900Z"
   },
   {
    "duration": 16,
    "start_time": "2022-05-22T16:38:58.943Z"
   },
   {
    "duration": 2,
    "start_time": "2022-05-22T16:38:58.961Z"
   },
   {
    "duration": 6,
    "start_time": "2022-05-22T16:38:58.964Z"
   },
   {
    "duration": 5,
    "start_time": "2022-05-22T16:38:58.971Z"
   },
   {
    "duration": 4,
    "start_time": "2022-05-22T16:38:58.978Z"
   },
   {
    "duration": 5,
    "start_time": "2022-05-22T16:42:32.341Z"
   },
   {
    "duration": 38,
    "start_time": "2022-05-22T16:42:34.734Z"
   },
   {
    "duration": 29,
    "start_time": "2022-05-22T16:42:36.520Z"
   },
   {
    "duration": 35,
    "start_time": "2022-05-22T16:42:38.931Z"
   },
   {
    "duration": 25,
    "start_time": "2022-05-22T16:42:41.026Z"
   },
   {
    "duration": 4,
    "start_time": "2022-05-22T16:48:01.745Z"
   },
   {
    "duration": 81,
    "start_time": "2022-05-22T16:48:31.769Z"
   },
   {
    "duration": 9,
    "start_time": "2022-05-22T16:49:38.592Z"
   },
   {
    "duration": 10,
    "start_time": "2022-05-22T16:50:52.431Z"
   },
   {
    "duration": 4,
    "start_time": "2022-05-22T16:51:13.438Z"
   },
   {
    "duration": 202,
    "start_time": "2022-05-22T16:51:13.445Z"
   },
   {
    "duration": 9,
    "start_time": "2022-05-22T16:51:13.649Z"
   },
   {
    "duration": 62,
    "start_time": "2022-05-22T16:51:13.661Z"
   },
   {
    "duration": 9,
    "start_time": "2022-05-22T16:51:13.726Z"
   },
   {
    "duration": 32,
    "start_time": "2022-05-22T16:51:13.737Z"
   },
   {
    "duration": 14,
    "start_time": "2022-05-22T16:51:13.771Z"
   },
   {
    "duration": 32,
    "start_time": "2022-05-22T16:51:13.787Z"
   },
   {
    "duration": 45,
    "start_time": "2022-05-22T16:51:13.821Z"
   },
   {
    "duration": 42,
    "start_time": "2022-05-22T16:51:13.870Z"
   },
   {
    "duration": 134,
    "start_time": "2022-05-22T16:51:13.914Z"
   },
   {
    "duration": 85,
    "start_time": "2022-05-22T16:51:14.051Z"
   },
   {
    "duration": 60,
    "start_time": "2022-05-22T16:51:14.138Z"
   },
   {
    "duration": 7,
    "start_time": "2022-05-22T16:51:14.211Z"
   },
   {
    "duration": 9,
    "start_time": "2022-05-22T16:51:14.220Z"
   },
   {
    "duration": 29,
    "start_time": "2022-05-22T16:51:14.231Z"
   },
   {
    "duration": 35,
    "start_time": "2022-05-22T16:51:14.262Z"
   },
   {
    "duration": 40,
    "start_time": "2022-05-22T16:51:14.299Z"
   },
   {
    "duration": 40,
    "start_time": "2022-05-22T16:51:14.341Z"
   },
   {
    "duration": 6,
    "start_time": "2022-05-22T16:51:14.383Z"
   },
   {
    "duration": 71,
    "start_time": "2022-05-22T16:51:14.391Z"
   },
   {
    "duration": 14,
    "start_time": "2022-05-22T16:51:14.464Z"
   },
   {
    "duration": 41,
    "start_time": "2022-05-22T16:51:14.480Z"
   },
   {
    "duration": 21,
    "start_time": "2022-05-22T16:51:14.522Z"
   },
   {
    "duration": 51,
    "start_time": "2022-05-22T16:51:14.545Z"
   },
   {
    "duration": 29,
    "start_time": "2022-05-22T16:51:14.598Z"
   },
   {
    "duration": 45,
    "start_time": "2022-05-22T16:51:14.629Z"
   },
   {
    "duration": 43,
    "start_time": "2022-05-22T16:51:14.678Z"
   },
   {
    "duration": 51,
    "start_time": "2022-05-22T16:51:14.723Z"
   },
   {
    "duration": 10,
    "start_time": "2022-05-22T16:51:14.776Z"
   },
   {
    "duration": 67,
    "start_time": "2022-05-22T16:51:14.787Z"
   },
   {
    "duration": 42,
    "start_time": "2022-05-22T16:51:14.856Z"
   },
   {
    "duration": 43,
    "start_time": "2022-05-22T16:51:14.900Z"
   },
   {
    "duration": 24,
    "start_time": "2022-05-22T16:51:14.945Z"
   },
   {
    "duration": 11,
    "start_time": "2022-05-22T16:51:14.971Z"
   },
   {
    "duration": 11,
    "start_time": "2022-05-22T16:51:14.985Z"
   },
   {
    "duration": 16,
    "start_time": "2022-05-22T16:51:14.997Z"
   },
   {
    "duration": 5,
    "start_time": "2022-05-22T16:51:15.015Z"
   },
   {
    "duration": 9,
    "start_time": "2022-05-22T16:51:43.254Z"
   },
   {
    "duration": 15,
    "start_time": "2022-05-22T16:51:53.318Z"
   },
   {
    "duration": 11,
    "start_time": "2022-05-22T16:51:58.305Z"
   },
   {
    "duration": 7,
    "start_time": "2022-05-22T16:52:02.476Z"
   },
   {
    "duration": 227,
    "start_time": "2022-05-22T16:52:02.485Z"
   },
   {
    "duration": 9,
    "start_time": "2022-05-22T16:52:02.714Z"
   },
   {
    "duration": 69,
    "start_time": "2022-05-22T16:52:02.726Z"
   },
   {
    "duration": 17,
    "start_time": "2022-05-22T16:52:02.797Z"
   },
   {
    "duration": 41,
    "start_time": "2022-05-22T16:52:02.816Z"
   },
   {
    "duration": 33,
    "start_time": "2022-05-22T16:52:02.860Z"
   },
   {
    "duration": 51,
    "start_time": "2022-05-22T16:52:02.895Z"
   },
   {
    "duration": 38,
    "start_time": "2022-05-22T16:52:02.949Z"
   },
   {
    "duration": 35,
    "start_time": "2022-05-22T16:52:02.990Z"
   },
   {
    "duration": 121,
    "start_time": "2022-05-22T16:52:03.027Z"
   },
   {
    "duration": 88,
    "start_time": "2022-05-22T16:52:03.150Z"
   },
   {
    "duration": 58,
    "start_time": "2022-05-22T16:52:03.240Z"
   },
   {
    "duration": 8,
    "start_time": "2022-05-22T16:52:03.311Z"
   },
   {
    "duration": 31,
    "start_time": "2022-05-22T16:52:03.322Z"
   },
   {
    "duration": 20,
    "start_time": "2022-05-22T16:52:03.355Z"
   },
   {
    "duration": 44,
    "start_time": "2022-05-22T16:52:03.377Z"
   },
   {
    "duration": 59,
    "start_time": "2022-05-22T16:52:03.423Z"
   },
   {
    "duration": 47,
    "start_time": "2022-05-22T16:52:03.484Z"
   },
   {
    "duration": 7,
    "start_time": "2022-05-22T16:52:03.533Z"
   },
   {
    "duration": 62,
    "start_time": "2022-05-22T16:52:03.542Z"
   },
   {
    "duration": 16,
    "start_time": "2022-05-22T16:52:03.606Z"
   },
   {
    "duration": 57,
    "start_time": "2022-05-22T16:52:03.624Z"
   },
   {
    "duration": 24,
    "start_time": "2022-05-22T16:52:03.683Z"
   },
   {
    "duration": 54,
    "start_time": "2022-05-22T16:52:03.709Z"
   },
   {
    "duration": 24,
    "start_time": "2022-05-22T16:52:03.765Z"
   },
   {
    "duration": 27,
    "start_time": "2022-05-22T16:52:03.791Z"
   },
   {
    "duration": 38,
    "start_time": "2022-05-22T16:52:03.822Z"
   },
   {
    "duration": 27,
    "start_time": "2022-05-22T16:52:03.862Z"
   },
   {
    "duration": 20,
    "start_time": "2022-05-22T16:52:03.892Z"
   },
   {
    "duration": 77,
    "start_time": "2022-05-22T16:52:03.915Z"
   },
   {
    "duration": 25,
    "start_time": "2022-05-22T16:52:03.995Z"
   },
   {
    "duration": 51,
    "start_time": "2022-05-22T16:52:04.022Z"
   },
   {
    "duration": 21,
    "start_time": "2022-05-22T16:52:04.075Z"
   },
   {
    "duration": 29,
    "start_time": "2022-05-22T16:52:04.098Z"
   },
   {
    "duration": 15,
    "start_time": "2022-05-22T16:52:04.129Z"
   },
   {
    "duration": 22,
    "start_time": "2022-05-22T16:52:04.146Z"
   },
   {
    "duration": 18,
    "start_time": "2022-05-22T16:52:04.170Z"
   },
   {
    "duration": 9,
    "start_time": "2022-05-22T16:52:09.230Z"
   },
   {
    "duration": 3,
    "start_time": "2022-05-22T16:52:27.804Z"
   },
   {
    "duration": 215,
    "start_time": "2022-05-22T16:52:27.809Z"
   },
   {
    "duration": 7,
    "start_time": "2022-05-22T16:52:28.026Z"
   },
   {
    "duration": 36,
    "start_time": "2022-05-22T16:52:28.035Z"
   },
   {
    "duration": 4,
    "start_time": "2022-05-22T16:52:28.073Z"
   },
   {
    "duration": 33,
    "start_time": "2022-05-22T16:52:28.079Z"
   },
   {
    "duration": 5,
    "start_time": "2022-05-22T16:52:28.114Z"
   },
   {
    "duration": 29,
    "start_time": "2022-05-22T16:52:28.121Z"
   },
   {
    "duration": 26,
    "start_time": "2022-05-22T16:52:28.152Z"
   },
   {
    "duration": 56,
    "start_time": "2022-05-22T16:52:28.182Z"
   },
   {
    "duration": 72,
    "start_time": "2022-05-22T16:52:28.240Z"
   },
   {
    "duration": 78,
    "start_time": "2022-05-22T16:52:28.314Z"
   },
   {
    "duration": 78,
    "start_time": "2022-05-22T16:52:28.394Z"
   },
   {
    "duration": 8,
    "start_time": "2022-05-22T16:52:28.474Z"
   },
   {
    "duration": 11,
    "start_time": "2022-05-22T16:52:28.486Z"
   },
   {
    "duration": 14,
    "start_time": "2022-05-22T16:52:28.511Z"
   },
   {
    "duration": 8,
    "start_time": "2022-05-22T16:52:28.526Z"
   },
   {
    "duration": 36,
    "start_time": "2022-05-22T16:52:28.536Z"
   },
   {
    "duration": 57,
    "start_time": "2022-05-22T16:52:28.574Z"
   },
   {
    "duration": 5,
    "start_time": "2022-05-22T16:52:28.633Z"
   },
   {
    "duration": 31,
    "start_time": "2022-05-22T16:52:28.640Z"
   },
   {
    "duration": 17,
    "start_time": "2022-05-22T16:52:28.673Z"
   },
   {
    "duration": 45,
    "start_time": "2022-05-22T16:52:28.692Z"
   },
   {
    "duration": 19,
    "start_time": "2022-05-22T16:52:28.740Z"
   },
   {
    "duration": 18,
    "start_time": "2022-05-22T16:52:28.762Z"
   },
   {
    "duration": 42,
    "start_time": "2022-05-22T16:52:28.782Z"
   },
   {
    "duration": 8,
    "start_time": "2022-05-22T16:52:28.826Z"
   },
   {
    "duration": 24,
    "start_time": "2022-05-22T16:52:28.838Z"
   },
   {
    "duration": 19,
    "start_time": "2022-05-22T16:52:28.863Z"
   },
   {
    "duration": 32,
    "start_time": "2022-05-22T16:52:28.884Z"
   },
   {
    "duration": 40,
    "start_time": "2022-05-22T16:52:28.918Z"
   },
   {
    "duration": 18,
    "start_time": "2022-05-22T16:52:28.960Z"
   },
   {
    "duration": 48,
    "start_time": "2022-05-22T16:52:28.979Z"
   },
   {
    "duration": 25,
    "start_time": "2022-05-22T16:52:29.029Z"
   },
   {
    "duration": 14,
    "start_time": "2022-05-22T16:52:29.056Z"
   },
   {
    "duration": 3,
    "start_time": "2022-05-22T16:52:29.072Z"
   },
   {
    "duration": 8,
    "start_time": "2022-05-22T16:52:29.077Z"
   },
   {
    "duration": 5,
    "start_time": "2022-05-22T16:52:29.112Z"
   },
   {
    "duration": 18,
    "start_time": "2022-05-22T16:53:48.721Z"
   },
   {
    "duration": 5,
    "start_time": "2022-05-22T16:53:52.011Z"
   },
   {
    "duration": 244,
    "start_time": "2022-05-22T16:53:52.019Z"
   },
   {
    "duration": 7,
    "start_time": "2022-05-22T16:53:52.265Z"
   },
   {
    "duration": 53,
    "start_time": "2022-05-22T16:53:52.275Z"
   },
   {
    "duration": 14,
    "start_time": "2022-05-22T16:53:52.331Z"
   },
   {
    "duration": 16,
    "start_time": "2022-05-22T16:53:52.347Z"
   },
   {
    "duration": 6,
    "start_time": "2022-05-22T16:53:52.366Z"
   },
   {
    "duration": 49,
    "start_time": "2022-05-22T16:53:52.374Z"
   },
   {
    "duration": 34,
    "start_time": "2022-05-22T16:53:52.425Z"
   },
   {
    "duration": 38,
    "start_time": "2022-05-22T16:53:52.463Z"
   },
   {
    "duration": 76,
    "start_time": "2022-05-22T16:53:52.503Z"
   },
   {
    "duration": 117,
    "start_time": "2022-05-22T16:53:52.581Z"
   },
   {
    "duration": 77,
    "start_time": "2022-05-22T16:53:52.700Z"
   },
   {
    "duration": 7,
    "start_time": "2022-05-22T16:53:52.779Z"
   },
   {
    "duration": 7,
    "start_time": "2022-05-22T16:53:52.789Z"
   },
   {
    "duration": 29,
    "start_time": "2022-05-22T16:53:52.820Z"
   },
   {
    "duration": 23,
    "start_time": "2022-05-22T16:53:52.851Z"
   },
   {
    "duration": 61,
    "start_time": "2022-05-22T16:53:52.876Z"
   },
   {
    "duration": 34,
    "start_time": "2022-05-22T16:53:52.939Z"
   },
   {
    "duration": 10,
    "start_time": "2022-05-22T16:53:52.975Z"
   },
   {
    "duration": 56,
    "start_time": "2022-05-22T16:53:52.987Z"
   },
   {
    "duration": 16,
    "start_time": "2022-05-22T16:53:53.045Z"
   },
   {
    "duration": 43,
    "start_time": "2022-05-22T16:53:53.064Z"
   },
   {
    "duration": 32,
    "start_time": "2022-05-22T16:53:53.109Z"
   },
   {
    "duration": 25,
    "start_time": "2022-05-22T16:53:53.144Z"
   },
   {
    "duration": 15,
    "start_time": "2022-05-22T16:53:53.171Z"
   },
   {
    "duration": 12,
    "start_time": "2022-05-22T16:53:53.188Z"
   },
   {
    "duration": 64,
    "start_time": "2022-05-22T16:53:53.203Z"
   },
   {
    "duration": 34,
    "start_time": "2022-05-22T16:53:53.269Z"
   },
   {
    "duration": 5,
    "start_time": "2022-05-22T16:53:53.305Z"
   },
   {
    "duration": 72,
    "start_time": "2022-05-22T16:53:53.313Z"
   },
   {
    "duration": 33,
    "start_time": "2022-05-22T16:53:53.388Z"
   },
   {
    "duration": 40,
    "start_time": "2022-05-22T16:53:53.423Z"
   },
   {
    "duration": 26,
    "start_time": "2022-05-22T16:53:53.465Z"
   },
   {
    "duration": 44,
    "start_time": "2022-05-22T16:53:53.493Z"
   },
   {
    "duration": 0,
    "start_time": "2022-05-22T16:53:53.543Z"
   },
   {
    "duration": 0,
    "start_time": "2022-05-22T16:53:53.544Z"
   },
   {
    "duration": 0,
    "start_time": "2022-05-22T16:53:53.547Z"
   },
   {
    "duration": 12,
    "start_time": "2022-05-22T16:54:16.156Z"
   },
   {
    "duration": 6,
    "start_time": "2022-05-22T16:54:27.632Z"
   },
   {
    "duration": 226,
    "start_time": "2022-05-22T16:54:27.642Z"
   },
   {
    "duration": 19,
    "start_time": "2022-05-22T16:54:27.878Z"
   },
   {
    "duration": 72,
    "start_time": "2022-05-22T16:54:27.900Z"
   },
   {
    "duration": 21,
    "start_time": "2022-05-22T16:54:27.974Z"
   },
   {
    "duration": 63,
    "start_time": "2022-05-22T16:54:27.997Z"
   },
   {
    "duration": 11,
    "start_time": "2022-05-22T16:54:28.062Z"
   },
   {
    "duration": 52,
    "start_time": "2022-05-22T16:54:28.076Z"
   },
   {
    "duration": 59,
    "start_time": "2022-05-22T16:54:28.131Z"
   },
   {
    "duration": 50,
    "start_time": "2022-05-22T16:54:28.194Z"
   },
   {
    "duration": 105,
    "start_time": "2022-05-22T16:54:28.246Z"
   },
   {
    "duration": 87,
    "start_time": "2022-05-22T16:54:28.353Z"
   },
   {
    "duration": 87,
    "start_time": "2022-05-22T16:54:28.442Z"
   },
   {
    "duration": 11,
    "start_time": "2022-05-22T16:54:28.530Z"
   },
   {
    "duration": 31,
    "start_time": "2022-05-22T16:54:28.543Z"
   },
   {
    "duration": 76,
    "start_time": "2022-05-22T16:54:28.576Z"
   },
   {
    "duration": 46,
    "start_time": "2022-05-22T16:54:28.654Z"
   },
   {
    "duration": 125,
    "start_time": "2022-05-22T16:54:28.702Z"
   },
   {
    "duration": 55,
    "start_time": "2022-05-22T16:54:28.832Z"
   },
   {
    "duration": 7,
    "start_time": "2022-05-22T16:54:28.889Z"
   },
   {
    "duration": 98,
    "start_time": "2022-05-22T16:54:28.898Z"
   },
   {
    "duration": 27,
    "start_time": "2022-05-22T16:54:28.998Z"
   },
   {
    "duration": 44,
    "start_time": "2022-05-22T16:54:29.028Z"
   },
   {
    "duration": 20,
    "start_time": "2022-05-22T16:54:29.077Z"
   },
   {
    "duration": 34,
    "start_time": "2022-05-22T16:54:29.099Z"
   },
   {
    "duration": 24,
    "start_time": "2022-05-22T16:54:29.137Z"
   },
   {
    "duration": 9,
    "start_time": "2022-05-22T16:54:29.164Z"
   },
   {
    "duration": 40,
    "start_time": "2022-05-22T16:54:29.175Z"
   },
   {
    "duration": 24,
    "start_time": "2022-05-22T16:54:29.225Z"
   },
   {
    "duration": 10,
    "start_time": "2022-05-22T16:54:29.253Z"
   },
   {
    "duration": 56,
    "start_time": "2022-05-22T16:54:29.265Z"
   },
   {
    "duration": 29,
    "start_time": "2022-05-22T16:54:29.324Z"
   },
   {
    "duration": 46,
    "start_time": "2022-05-22T16:54:29.355Z"
   },
   {
    "duration": 41,
    "start_time": "2022-05-22T16:54:29.403Z"
   },
   {
    "duration": 20,
    "start_time": "2022-05-22T16:54:29.446Z"
   },
   {
    "duration": 0,
    "start_time": "2022-05-22T16:54:29.468Z"
   },
   {
    "duration": 0,
    "start_time": "2022-05-22T16:54:29.473Z"
   },
   {
    "duration": 0,
    "start_time": "2022-05-22T16:54:29.474Z"
   },
   {
    "duration": 12,
    "start_time": "2022-05-22T16:55:40.034Z"
   },
   {
    "duration": 3,
    "start_time": "2022-05-22T16:55:44.547Z"
   },
   {
    "duration": 222,
    "start_time": "2022-05-22T16:55:44.552Z"
   },
   {
    "duration": 8,
    "start_time": "2022-05-22T16:55:44.776Z"
   },
   {
    "duration": 52,
    "start_time": "2022-05-22T16:55:44.785Z"
   },
   {
    "duration": 9,
    "start_time": "2022-05-22T16:55:44.840Z"
   },
   {
    "duration": 13,
    "start_time": "2022-05-22T16:55:44.851Z"
   },
   {
    "duration": 5,
    "start_time": "2022-05-22T16:55:44.867Z"
   },
   {
    "duration": 52,
    "start_time": "2022-05-22T16:55:44.874Z"
   },
   {
    "duration": 31,
    "start_time": "2022-05-22T16:55:44.927Z"
   },
   {
    "duration": 29,
    "start_time": "2022-05-22T16:55:44.960Z"
   },
   {
    "duration": 102,
    "start_time": "2022-05-22T16:55:44.992Z"
   },
   {
    "duration": 99,
    "start_time": "2022-05-22T16:55:45.096Z"
   },
   {
    "duration": 98,
    "start_time": "2022-05-22T16:55:45.198Z"
   },
   {
    "duration": 19,
    "start_time": "2022-05-22T16:55:45.298Z"
   },
   {
    "duration": 16,
    "start_time": "2022-05-22T16:55:45.321Z"
   },
   {
    "duration": 23,
    "start_time": "2022-05-22T16:55:45.338Z"
   },
   {
    "duration": 10,
    "start_time": "2022-05-22T16:55:45.364Z"
   },
   {
    "duration": 58,
    "start_time": "2022-05-22T16:55:45.376Z"
   },
   {
    "duration": 36,
    "start_time": "2022-05-22T16:55:45.440Z"
   },
   {
    "duration": 5,
    "start_time": "2022-05-22T16:55:45.478Z"
   },
   {
    "duration": 54,
    "start_time": "2022-05-22T16:55:45.485Z"
   },
   {
    "duration": 17,
    "start_time": "2022-05-22T16:55:45.542Z"
   },
   {
    "duration": 21,
    "start_time": "2022-05-22T16:55:45.561Z"
   },
   {
    "duration": 33,
    "start_time": "2022-05-22T16:55:45.583Z"
   },
   {
    "duration": 33,
    "start_time": "2022-05-22T16:55:45.625Z"
   },
   {
    "duration": 19,
    "start_time": "2022-05-22T16:55:45.660Z"
   },
   {
    "duration": 10,
    "start_time": "2022-05-22T16:55:45.682Z"
   },
   {
    "duration": 41,
    "start_time": "2022-05-22T16:55:45.694Z"
   },
   {
    "duration": 18,
    "start_time": "2022-05-22T16:55:45.738Z"
   },
   {
    "duration": 4,
    "start_time": "2022-05-22T16:55:45.758Z"
   },
   {
    "duration": 34,
    "start_time": "2022-05-22T16:55:45.764Z"
   },
   {
    "duration": 34,
    "start_time": "2022-05-22T16:55:45.800Z"
   },
   {
    "duration": 47,
    "start_time": "2022-05-22T16:55:45.838Z"
   },
   {
    "duration": 50,
    "start_time": "2022-05-22T16:55:45.887Z"
   },
   {
    "duration": 14,
    "start_time": "2022-05-22T16:55:45.941Z"
   },
   {
    "duration": 5,
    "start_time": "2022-05-22T16:55:45.957Z"
   },
   {
    "duration": 11,
    "start_time": "2022-05-22T16:55:45.964Z"
   },
   {
    "duration": 8,
    "start_time": "2022-05-22T16:55:45.977Z"
   },
   {
    "duration": 14,
    "start_time": "2022-05-22T16:57:20.755Z"
   },
   {
    "duration": 9,
    "start_time": "2022-05-22T16:57:22.836Z"
   },
   {
    "duration": 478,
    "start_time": "2022-05-22T16:57:42.234Z"
   },
   {
    "duration": 173,
    "start_time": "2022-05-22T16:57:42.714Z"
   },
   {
    "duration": 10,
    "start_time": "2022-05-22T16:57:42.889Z"
   },
   {
    "duration": 49,
    "start_time": "2022-05-22T16:57:42.911Z"
   },
   {
    "duration": 11,
    "start_time": "2022-05-22T16:57:42.961Z"
   },
   {
    "duration": 16,
    "start_time": "2022-05-22T16:57:42.974Z"
   },
   {
    "duration": 22,
    "start_time": "2022-05-22T16:57:42.993Z"
   },
   {
    "duration": 33,
    "start_time": "2022-05-22T16:57:43.017Z"
   },
   {
    "duration": 28,
    "start_time": "2022-05-22T16:57:43.052Z"
   },
   {
    "duration": 54,
    "start_time": "2022-05-22T16:57:43.083Z"
   },
   {
    "duration": 87,
    "start_time": "2022-05-22T16:57:43.139Z"
   },
   {
    "duration": 98,
    "start_time": "2022-05-22T16:57:43.228Z"
   },
   {
    "duration": 100,
    "start_time": "2022-05-22T16:57:43.327Z"
   },
   {
    "duration": 10,
    "start_time": "2022-05-22T16:57:43.429Z"
   },
   {
    "duration": 5,
    "start_time": "2022-05-22T16:57:43.441Z"
   },
   {
    "duration": 19,
    "start_time": "2022-05-22T16:57:43.448Z"
   },
   {
    "duration": 10,
    "start_time": "2022-05-22T16:57:43.469Z"
   },
   {
    "duration": 58,
    "start_time": "2022-05-22T16:57:43.482Z"
   },
   {
    "duration": 45,
    "start_time": "2022-05-22T16:57:43.542Z"
   },
   {
    "duration": 5,
    "start_time": "2022-05-22T16:57:43.589Z"
   },
   {
    "duration": 40,
    "start_time": "2022-05-22T16:57:43.595Z"
   },
   {
    "duration": 15,
    "start_time": "2022-05-22T16:57:43.637Z"
   },
   {
    "duration": 19,
    "start_time": "2022-05-22T16:57:43.654Z"
   },
   {
    "duration": 43,
    "start_time": "2022-05-22T16:57:43.675Z"
   },
   {
    "duration": 18,
    "start_time": "2022-05-22T16:57:43.720Z"
   },
   {
    "duration": 17,
    "start_time": "2022-05-22T16:57:43.740Z"
   },
   {
    "duration": 11,
    "start_time": "2022-05-22T16:57:43.758Z"
   },
   {
    "duration": 54,
    "start_time": "2022-05-22T16:57:43.773Z"
   },
   {
    "duration": 27,
    "start_time": "2022-05-22T16:57:43.830Z"
   },
   {
    "duration": 6,
    "start_time": "2022-05-22T16:57:43.859Z"
   },
   {
    "duration": 66,
    "start_time": "2022-05-22T16:57:43.867Z"
   },
   {
    "duration": 25,
    "start_time": "2022-05-22T16:57:43.936Z"
   },
   {
    "duration": 64,
    "start_time": "2022-05-22T16:57:43.964Z"
   },
   {
    "duration": 21,
    "start_time": "2022-05-22T16:57:44.029Z"
   },
   {
    "duration": 116,
    "start_time": "2022-05-22T16:57:44.052Z"
   },
   {
    "duration": 0,
    "start_time": "2022-05-22T16:57:44.171Z"
   },
   {
    "duration": 0,
    "start_time": "2022-05-22T16:57:44.173Z"
   },
   {
    "duration": 0,
    "start_time": "2022-05-22T16:57:44.174Z"
   },
   {
    "duration": 10,
    "start_time": "2022-05-22T16:57:54.806Z"
   },
   {
    "duration": 418,
    "start_time": "2022-05-22T16:58:17.543Z"
   },
   {
    "duration": 186,
    "start_time": "2022-05-22T16:58:17.963Z"
   },
   {
    "duration": 9,
    "start_time": "2022-05-22T16:58:18.151Z"
   },
   {
    "duration": 53,
    "start_time": "2022-05-22T16:58:18.162Z"
   },
   {
    "duration": 10,
    "start_time": "2022-05-22T16:58:18.218Z"
   },
   {
    "duration": 26,
    "start_time": "2022-05-22T16:58:18.229Z"
   },
   {
    "duration": 11,
    "start_time": "2022-05-22T16:58:18.257Z"
   },
   {
    "duration": 48,
    "start_time": "2022-05-22T16:58:18.270Z"
   },
   {
    "duration": 29,
    "start_time": "2022-05-22T16:58:18.320Z"
   },
   {
    "duration": 40,
    "start_time": "2022-05-22T16:58:18.352Z"
   },
   {
    "duration": 87,
    "start_time": "2022-05-22T16:58:18.393Z"
   },
   {
    "duration": 107,
    "start_time": "2022-05-22T16:58:18.482Z"
   },
   {
    "duration": 94,
    "start_time": "2022-05-22T16:58:18.592Z"
   },
   {
    "duration": 9,
    "start_time": "2022-05-22T16:58:18.690Z"
   },
   {
    "duration": 6,
    "start_time": "2022-05-22T16:58:18.713Z"
   },
   {
    "duration": 19,
    "start_time": "2022-05-22T16:58:18.721Z"
   },
   {
    "duration": 23,
    "start_time": "2022-05-22T16:58:18.742Z"
   },
   {
    "duration": 56,
    "start_time": "2022-05-22T16:58:18.767Z"
   },
   {
    "duration": 29,
    "start_time": "2022-05-22T16:58:18.825Z"
   },
   {
    "duration": 4,
    "start_time": "2022-05-22T16:58:18.856Z"
   },
   {
    "duration": 53,
    "start_time": "2022-05-22T16:58:18.862Z"
   },
   {
    "duration": 20,
    "start_time": "2022-05-22T16:58:18.918Z"
   },
   {
    "duration": 28,
    "start_time": "2022-05-22T16:58:18.940Z"
   },
   {
    "duration": 28,
    "start_time": "2022-05-22T16:58:18.970Z"
   },
   {
    "duration": 33,
    "start_time": "2022-05-22T16:58:19.000Z"
   },
   {
    "duration": 25,
    "start_time": "2022-05-22T16:58:19.035Z"
   },
   {
    "duration": 25,
    "start_time": "2022-05-22T16:58:19.061Z"
   },
   {
    "duration": 29,
    "start_time": "2022-05-22T16:58:19.089Z"
   },
   {
    "duration": 21,
    "start_time": "2022-05-22T16:58:19.121Z"
   },
   {
    "duration": 14,
    "start_time": "2022-05-22T16:58:19.144Z"
   },
   {
    "duration": 53,
    "start_time": "2022-05-22T16:58:19.160Z"
   },
   {
    "duration": 17,
    "start_time": "2022-05-22T16:58:19.215Z"
   },
   {
    "duration": 46,
    "start_time": "2022-05-22T16:58:19.234Z"
   },
   {
    "duration": 45,
    "start_time": "2022-05-22T16:58:19.282Z"
   },
   {
    "duration": 85,
    "start_time": "2022-05-22T16:58:19.329Z"
   },
   {
    "duration": 0,
    "start_time": "2022-05-22T16:58:19.416Z"
   },
   {
    "duration": 0,
    "start_time": "2022-05-22T16:58:19.417Z"
   },
   {
    "duration": 0,
    "start_time": "2022-05-22T16:58:19.418Z"
   },
   {
    "duration": 11,
    "start_time": "2022-05-22T16:58:32.607Z"
   },
   {
    "duration": 12,
    "start_time": "2022-05-22T16:58:43.663Z"
   },
   {
    "duration": 15,
    "start_time": "2022-05-22T16:58:54.447Z"
   },
   {
    "duration": 18,
    "start_time": "2022-05-22T16:59:10.039Z"
   },
   {
    "duration": 3,
    "start_time": "2022-05-22T16:59:15.261Z"
   },
   {
    "duration": 221,
    "start_time": "2022-05-22T16:59:15.266Z"
   },
   {
    "duration": 9,
    "start_time": "2022-05-22T16:59:15.489Z"
   },
   {
    "duration": 45,
    "start_time": "2022-05-22T16:59:15.511Z"
   },
   {
    "duration": 3,
    "start_time": "2022-05-22T16:59:15.558Z"
   },
   {
    "duration": 13,
    "start_time": "2022-05-22T16:59:15.563Z"
   },
   {
    "duration": 4,
    "start_time": "2022-05-22T16:59:15.578Z"
   },
   {
    "duration": 62,
    "start_time": "2022-05-22T16:59:15.584Z"
   },
   {
    "duration": 20,
    "start_time": "2022-05-22T16:59:15.649Z"
   },
   {
    "duration": 56,
    "start_time": "2022-05-22T16:59:15.672Z"
   },
   {
    "duration": 105,
    "start_time": "2022-05-22T16:59:15.730Z"
   },
   {
    "duration": 108,
    "start_time": "2022-05-22T16:59:15.837Z"
   },
   {
    "duration": 91,
    "start_time": "2022-05-22T16:59:15.948Z"
   },
   {
    "duration": 10,
    "start_time": "2022-05-22T16:59:16.040Z"
   },
   {
    "duration": 4,
    "start_time": "2022-05-22T16:59:16.052Z"
   },
   {
    "duration": 15,
    "start_time": "2022-05-22T16:59:16.059Z"
   },
   {
    "duration": 10,
    "start_time": "2022-05-22T16:59:16.075Z"
   },
   {
    "duration": 71,
    "start_time": "2022-05-22T16:59:16.088Z"
   },
   {
    "duration": 51,
    "start_time": "2022-05-22T16:59:16.161Z"
   },
   {
    "duration": 5,
    "start_time": "2022-05-22T16:59:16.215Z"
   },
   {
    "duration": 41,
    "start_time": "2022-05-22T16:59:16.222Z"
   },
   {
    "duration": 14,
    "start_time": "2022-05-22T16:59:16.265Z"
   },
   {
    "duration": 42,
    "start_time": "2022-05-22T16:59:16.281Z"
   },
   {
    "duration": 14,
    "start_time": "2022-05-22T16:59:16.326Z"
   },
   {
    "duration": 18,
    "start_time": "2022-05-22T16:59:16.342Z"
   },
   {
    "duration": 18,
    "start_time": "2022-05-22T16:59:16.362Z"
   },
   {
    "duration": 35,
    "start_time": "2022-05-22T16:59:16.382Z"
   },
   {
    "duration": 30,
    "start_time": "2022-05-22T16:59:16.420Z"
   },
   {
    "duration": 27,
    "start_time": "2022-05-22T16:59:16.452Z"
   },
   {
    "duration": 5,
    "start_time": "2022-05-22T16:59:16.481Z"
   },
   {
    "duration": 35,
    "start_time": "2022-05-22T16:59:16.512Z"
   },
   {
    "duration": 22,
    "start_time": "2022-05-22T16:59:16.550Z"
   },
   {
    "duration": 59,
    "start_time": "2022-05-22T16:59:16.574Z"
   },
   {
    "duration": 25,
    "start_time": "2022-05-22T16:59:16.635Z"
   },
   {
    "duration": 16,
    "start_time": "2022-05-22T16:59:16.662Z"
   },
   {
    "duration": 0,
    "start_time": "2022-05-22T16:59:16.679Z"
   },
   {
    "duration": 0,
    "start_time": "2022-05-22T16:59:16.680Z"
   },
   {
    "duration": 0,
    "start_time": "2022-05-22T16:59:16.682Z"
   },
   {
    "duration": 9,
    "start_time": "2022-05-22T17:00:41.285Z"
   },
   {
    "duration": 5,
    "start_time": "2022-05-22T17:00:51.041Z"
   },
   {
    "duration": 9,
    "start_time": "2022-05-22T17:01:02.535Z"
   },
   {
    "duration": 5,
    "start_time": "2022-05-22T17:01:04.381Z"
   },
   {
    "duration": 6,
    "start_time": "2022-05-22T17:02:13.315Z"
   },
   {
    "duration": 4,
    "start_time": "2022-05-22T17:02:15.045Z"
   },
   {
    "duration": 8,
    "start_time": "2022-05-22T17:02:39.092Z"
   },
   {
    "duration": 5,
    "start_time": "2022-05-22T17:02:41.747Z"
   },
   {
    "duration": 57,
    "start_time": "2022-05-22T17:06:35.891Z"
   },
   {
    "duration": 57,
    "start_time": "2022-05-22T17:06:52.144Z"
   },
   {
    "duration": 8,
    "start_time": "2022-05-22T17:09:02.538Z"
   },
   {
    "duration": 8,
    "start_time": "2022-05-22T17:09:20.664Z"
   },
   {
    "duration": 11,
    "start_time": "2022-05-22T17:10:29.143Z"
   },
   {
    "duration": 10,
    "start_time": "2022-05-22T17:11:11.168Z"
   },
   {
    "duration": 4,
    "start_time": "2022-05-22T17:11:34.546Z"
   },
   {
    "duration": 17,
    "start_time": "2022-05-22T17:12:16.190Z"
   },
   {
    "duration": 4,
    "start_time": "2022-05-22T17:18:41.331Z"
   },
   {
    "duration": 26,
    "start_time": "2022-05-22T17:18:42.873Z"
   },
   {
    "duration": 15,
    "start_time": "2022-05-22T17:18:47.202Z"
   },
   {
    "duration": 28,
    "start_time": "2022-05-22T17:18:58.835Z"
   },
   {
    "duration": 27,
    "start_time": "2022-05-22T17:19:09.082Z"
   },
   {
    "duration": 25,
    "start_time": "2022-05-22T17:23:35.162Z"
   },
   {
    "duration": 32,
    "start_time": "2022-05-22T17:24:25.838Z"
   },
   {
    "duration": 30,
    "start_time": "2022-05-22T17:24:55.582Z"
   },
   {
    "duration": 29,
    "start_time": "2022-05-22T17:25:09.252Z"
   },
   {
    "duration": 26,
    "start_time": "2022-05-22T17:25:40.947Z"
   },
   {
    "duration": 29,
    "start_time": "2022-05-22T17:29:06.132Z"
   },
   {
    "duration": 9,
    "start_time": "2022-05-22T17:29:19.899Z"
   },
   {
    "duration": 5,
    "start_time": "2022-05-22T17:29:47.252Z"
   },
   {
    "duration": 37,
    "start_time": "2022-05-22T17:29:49.875Z"
   },
   {
    "duration": 27,
    "start_time": "2022-05-22T17:29:51.542Z"
   },
   {
    "duration": 29,
    "start_time": "2022-05-22T17:29:52.937Z"
   },
   {
    "duration": 26,
    "start_time": "2022-05-22T17:29:54.431Z"
   },
   {
    "duration": 7,
    "start_time": "2022-05-22T17:29:58.854Z"
   },
   {
    "duration": 9,
    "start_time": "2022-05-22T17:30:01.763Z"
   },
   {
    "duration": 590,
    "start_time": "2022-05-22T17:56:49.166Z"
   },
   {
    "duration": 541,
    "start_time": "2022-05-22T17:56:49.759Z"
   },
   {
    "duration": 9,
    "start_time": "2022-05-22T17:56:50.302Z"
   },
   {
    "duration": 54,
    "start_time": "2022-05-22T17:56:50.313Z"
   },
   {
    "duration": 9,
    "start_time": "2022-05-22T17:56:50.369Z"
   },
   {
    "duration": 12,
    "start_time": "2022-05-22T17:56:50.379Z"
   },
   {
    "duration": 6,
    "start_time": "2022-05-22T17:56:50.392Z"
   },
   {
    "duration": 52,
    "start_time": "2022-05-22T17:56:50.399Z"
   },
   {
    "duration": 18,
    "start_time": "2022-05-22T17:56:50.453Z"
   },
   {
    "duration": 21,
    "start_time": "2022-05-22T17:56:50.472Z"
   },
   {
    "duration": 75,
    "start_time": "2022-05-22T17:56:50.495Z"
   },
   {
    "duration": 3,
    "start_time": "2022-05-22T18:01:34.878Z"
   },
   {
    "duration": 244,
    "start_time": "2022-05-22T18:01:34.884Z"
   },
   {
    "duration": 8,
    "start_time": "2022-05-22T18:01:35.130Z"
   },
   {
    "duration": 50,
    "start_time": "2022-05-22T18:01:35.140Z"
   },
   {
    "duration": 5,
    "start_time": "2022-05-22T18:01:35.193Z"
   },
   {
    "duration": 37,
    "start_time": "2022-05-22T18:01:35.200Z"
   },
   {
    "duration": 8,
    "start_time": "2022-05-22T18:01:35.239Z"
   },
   {
    "duration": 32,
    "start_time": "2022-05-22T18:01:35.249Z"
   },
   {
    "duration": 29,
    "start_time": "2022-05-22T18:01:35.283Z"
   },
   {
    "duration": 62,
    "start_time": "2022-05-22T18:01:35.314Z"
   },
   {
    "duration": 83,
    "start_time": "2022-05-22T18:01:35.380Z"
   },
   {
    "duration": 108,
    "start_time": "2022-05-22T18:01:35.465Z"
   },
   {
    "duration": 73,
    "start_time": "2022-05-22T18:01:35.574Z"
   },
   {
    "duration": 11,
    "start_time": "2022-05-22T18:01:35.649Z"
   },
   {
    "duration": 5,
    "start_time": "2022-05-22T18:01:35.662Z"
   },
   {
    "duration": 34,
    "start_time": "2022-05-22T18:01:35.668Z"
   },
   {
    "duration": 19,
    "start_time": "2022-05-22T18:01:35.704Z"
   },
   {
    "duration": 16,
    "start_time": "2022-05-22T18:01:35.726Z"
   },
   {
    "duration": 12,
    "start_time": "2022-05-22T18:01:35.744Z"
   },
   {
    "duration": 4,
    "start_time": "2022-05-22T18:01:35.758Z"
   },
   {
    "duration": 52,
    "start_time": "2022-05-22T18:01:35.763Z"
   },
   {
    "duration": 35,
    "start_time": "2022-05-22T18:01:35.821Z"
   },
   {
    "duration": 24,
    "start_time": "2022-05-22T18:01:35.858Z"
   },
   {
    "duration": 24,
    "start_time": "2022-05-22T18:01:35.883Z"
   },
   {
    "duration": 38,
    "start_time": "2022-05-22T18:01:35.909Z"
   },
   {
    "duration": 16,
    "start_time": "2022-05-22T18:01:35.949Z"
   },
   {
    "duration": 11,
    "start_time": "2022-05-22T18:01:35.967Z"
   },
   {
    "duration": 42,
    "start_time": "2022-05-22T18:01:35.980Z"
   },
   {
    "duration": 38,
    "start_time": "2022-05-22T18:01:36.027Z"
   },
   {
    "duration": 6,
    "start_time": "2022-05-22T18:01:36.067Z"
   },
   {
    "duration": 48,
    "start_time": "2022-05-22T18:01:36.075Z"
   },
   {
    "duration": 32,
    "start_time": "2022-05-22T18:01:36.125Z"
   },
   {
    "duration": 27,
    "start_time": "2022-05-22T18:01:36.158Z"
   },
   {
    "duration": 31,
    "start_time": "2022-05-22T18:01:36.186Z"
   },
   {
    "duration": 58,
    "start_time": "2022-05-22T19:29:37.797Z"
   },
   {
    "duration": 8,
    "start_time": "2022-05-22T19:30:07.424Z"
   },
   {
    "duration": 831,
    "start_time": "2022-05-22T19:30:13.594Z"
   },
   {
    "duration": 501,
    "start_time": "2022-05-22T19:30:14.426Z"
   },
   {
    "duration": 9,
    "start_time": "2022-05-22T19:30:14.928Z"
   },
   {
    "duration": 28,
    "start_time": "2022-05-22T19:30:14.939Z"
   },
   {
    "duration": 10,
    "start_time": "2022-05-22T19:30:14.969Z"
   },
   {
    "duration": 29,
    "start_time": "2022-05-22T19:30:14.981Z"
   },
   {
    "duration": 11,
    "start_time": "2022-05-22T19:30:15.012Z"
   },
   {
    "duration": 36,
    "start_time": "2022-05-22T19:30:15.024Z"
   },
   {
    "duration": 24,
    "start_time": "2022-05-22T19:30:15.061Z"
   },
   {
    "duration": 23,
    "start_time": "2022-05-22T19:30:15.093Z"
   },
   {
    "duration": 70,
    "start_time": "2022-05-22T19:30:15.118Z"
   },
   {
    "duration": 71,
    "start_time": "2022-05-22T19:30:15.190Z"
   },
   {
    "duration": 73,
    "start_time": "2022-05-22T19:30:15.263Z"
   },
   {
    "duration": 50,
    "start_time": "2022-05-22T19:30:15.337Z"
   },
   {
    "duration": 0,
    "start_time": "2022-05-22T19:30:15.389Z"
   },
   {
    "duration": 0,
    "start_time": "2022-05-22T19:30:15.390Z"
   },
   {
    "duration": 0,
    "start_time": "2022-05-22T19:30:15.392Z"
   },
   {
    "duration": 0,
    "start_time": "2022-05-22T19:30:15.393Z"
   },
   {
    "duration": 0,
    "start_time": "2022-05-22T19:30:15.393Z"
   },
   {
    "duration": 0,
    "start_time": "2022-05-22T19:30:15.394Z"
   },
   {
    "duration": 0,
    "start_time": "2022-05-22T19:30:15.395Z"
   },
   {
    "duration": 0,
    "start_time": "2022-05-22T19:30:15.396Z"
   },
   {
    "duration": 0,
    "start_time": "2022-05-22T19:30:15.397Z"
   },
   {
    "duration": 0,
    "start_time": "2022-05-22T19:30:15.398Z"
   },
   {
    "duration": 0,
    "start_time": "2022-05-22T19:30:15.398Z"
   },
   {
    "duration": 0,
    "start_time": "2022-05-22T19:30:15.399Z"
   },
   {
    "duration": 0,
    "start_time": "2022-05-22T19:30:15.400Z"
   },
   {
    "duration": 0,
    "start_time": "2022-05-22T19:30:15.401Z"
   },
   {
    "duration": 0,
    "start_time": "2022-05-22T19:30:15.402Z"
   },
   {
    "duration": 0,
    "start_time": "2022-05-22T19:30:15.403Z"
   },
   {
    "duration": 0,
    "start_time": "2022-05-22T19:30:15.404Z"
   },
   {
    "duration": 0,
    "start_time": "2022-05-22T19:30:15.405Z"
   },
   {
    "duration": 0,
    "start_time": "2022-05-22T19:30:15.405Z"
   },
   {
    "duration": 0,
    "start_time": "2022-05-22T19:30:15.406Z"
   },
   {
    "duration": 0,
    "start_time": "2022-05-22T19:30:15.407Z"
   },
   {
    "duration": 0,
    "start_time": "2022-05-22T19:30:15.408Z"
   },
   {
    "duration": 0,
    "start_time": "2022-05-22T19:30:15.408Z"
   },
   {
    "duration": 0,
    "start_time": "2022-05-22T19:30:15.409Z"
   },
   {
    "duration": 15,
    "start_time": "2022-05-22T19:31:08.750Z"
   },
   {
    "duration": 12,
    "start_time": "2022-05-22T19:31:36.393Z"
   },
   {
    "duration": 207,
    "start_time": "2022-05-22T19:31:36.407Z"
   },
   {
    "duration": 7,
    "start_time": "2022-05-22T19:31:36.615Z"
   },
   {
    "duration": 28,
    "start_time": "2022-05-22T19:31:36.624Z"
   },
   {
    "duration": 4,
    "start_time": "2022-05-22T19:31:36.654Z"
   },
   {
    "duration": 35,
    "start_time": "2022-05-22T19:31:36.659Z"
   },
   {
    "duration": 12,
    "start_time": "2022-05-22T19:31:36.698Z"
   },
   {
    "duration": 28,
    "start_time": "2022-05-22T19:31:36.711Z"
   },
   {
    "duration": 24,
    "start_time": "2022-05-22T19:31:36.742Z"
   },
   {
    "duration": 30,
    "start_time": "2022-05-22T19:31:36.767Z"
   },
   {
    "duration": 83,
    "start_time": "2022-05-22T19:31:36.799Z"
   },
   {
    "duration": 70,
    "start_time": "2022-05-22T19:31:36.890Z"
   },
   {
    "duration": 60,
    "start_time": "2022-05-22T19:31:36.961Z"
   },
   {
    "duration": 11,
    "start_time": "2022-05-22T19:31:37.023Z"
   },
   {
    "duration": 0,
    "start_time": "2022-05-22T19:31:37.036Z"
   },
   {
    "duration": 0,
    "start_time": "2022-05-22T19:31:37.037Z"
   },
   {
    "duration": 0,
    "start_time": "2022-05-22T19:31:37.038Z"
   },
   {
    "duration": 0,
    "start_time": "2022-05-22T19:31:37.038Z"
   },
   {
    "duration": 0,
    "start_time": "2022-05-22T19:31:37.040Z"
   },
   {
    "duration": 0,
    "start_time": "2022-05-22T19:31:37.041Z"
   },
   {
    "duration": 0,
    "start_time": "2022-05-22T19:31:37.043Z"
   },
   {
    "duration": 0,
    "start_time": "2022-05-22T19:31:37.044Z"
   },
   {
    "duration": 0,
    "start_time": "2022-05-22T19:31:37.045Z"
   },
   {
    "duration": 0,
    "start_time": "2022-05-22T19:31:37.046Z"
   },
   {
    "duration": 0,
    "start_time": "2022-05-22T19:31:37.047Z"
   },
   {
    "duration": 0,
    "start_time": "2022-05-22T19:31:37.082Z"
   },
   {
    "duration": 0,
    "start_time": "2022-05-22T19:31:37.086Z"
   },
   {
    "duration": 0,
    "start_time": "2022-05-22T19:31:37.087Z"
   },
   {
    "duration": 0,
    "start_time": "2022-05-22T19:31:37.087Z"
   },
   {
    "duration": 0,
    "start_time": "2022-05-22T19:31:37.088Z"
   },
   {
    "duration": 0,
    "start_time": "2022-05-22T19:31:37.088Z"
   },
   {
    "duration": 0,
    "start_time": "2022-05-22T19:31:37.089Z"
   },
   {
    "duration": 0,
    "start_time": "2022-05-22T19:31:37.090Z"
   },
   {
    "duration": 0,
    "start_time": "2022-05-22T19:31:37.090Z"
   },
   {
    "duration": 0,
    "start_time": "2022-05-22T19:31:37.091Z"
   },
   {
    "duration": 0,
    "start_time": "2022-05-22T19:31:37.091Z"
   },
   {
    "duration": 0,
    "start_time": "2022-05-22T19:31:37.093Z"
   },
   {
    "duration": 0,
    "start_time": "2022-05-22T19:31:37.094Z"
   },
   {
    "duration": 10,
    "start_time": "2022-05-22T19:32:55.163Z"
   },
   {
    "duration": 42,
    "start_time": "2022-05-22T19:33:42.102Z"
   },
   {
    "duration": 46,
    "start_time": "2022-05-22T19:34:05.846Z"
   },
   {
    "duration": 10,
    "start_time": "2022-05-22T19:44:35.569Z"
   },
   {
    "duration": 11,
    "start_time": "2022-05-22T19:46:07.767Z"
   },
   {
    "duration": 5,
    "start_time": "2022-05-22T19:46:11.884Z"
   },
   {
    "duration": 176,
    "start_time": "2022-05-22T19:46:11.890Z"
   },
   {
    "duration": 20,
    "start_time": "2022-05-22T19:46:12.067Z"
   },
   {
    "duration": 35,
    "start_time": "2022-05-22T19:46:12.090Z"
   },
   {
    "duration": 4,
    "start_time": "2022-05-22T19:46:12.127Z"
   },
   {
    "duration": 10,
    "start_time": "2022-05-22T19:46:12.132Z"
   },
   {
    "duration": 5,
    "start_time": "2022-05-22T19:46:12.143Z"
   },
   {
    "duration": 49,
    "start_time": "2022-05-22T19:46:12.149Z"
   },
   {
    "duration": 19,
    "start_time": "2022-05-22T19:46:12.201Z"
   },
   {
    "duration": 24,
    "start_time": "2022-05-22T19:46:12.222Z"
   },
   {
    "duration": 79,
    "start_time": "2022-05-22T19:46:12.248Z"
   },
   {
    "duration": 88,
    "start_time": "2022-05-22T19:46:12.328Z"
   },
   {
    "duration": 64,
    "start_time": "2022-05-22T19:46:12.417Z"
   },
   {
    "duration": 40,
    "start_time": "2022-05-22T19:46:12.482Z"
   },
   {
    "duration": 3,
    "start_time": "2022-05-22T19:46:12.523Z"
   },
   {
    "duration": 12,
    "start_time": "2022-05-22T19:46:12.528Z"
   },
   {
    "duration": 6,
    "start_time": "2022-05-22T19:46:12.542Z"
   },
   {
    "duration": 38,
    "start_time": "2022-05-22T19:46:12.550Z"
   },
   {
    "duration": 11,
    "start_time": "2022-05-22T19:46:12.589Z"
   },
   {
    "duration": 4,
    "start_time": "2022-05-22T19:46:12.601Z"
   },
   {
    "duration": 20,
    "start_time": "2022-05-22T19:46:12.606Z"
   },
   {
    "duration": 14,
    "start_time": "2022-05-22T19:46:12.627Z"
   },
   {
    "duration": 15,
    "start_time": "2022-05-22T19:46:12.643Z"
   },
   {
    "duration": 20,
    "start_time": "2022-05-22T19:46:12.679Z"
   },
   {
    "duration": 16,
    "start_time": "2022-05-22T19:46:12.700Z"
   },
   {
    "duration": 15,
    "start_time": "2022-05-22T19:46:12.717Z"
   },
   {
    "duration": 30,
    "start_time": "2022-05-22T19:46:12.733Z"
   },
   {
    "duration": 54,
    "start_time": "2022-05-22T19:46:12.765Z"
   },
   {
    "duration": 25,
    "start_time": "2022-05-22T19:46:12.823Z"
   },
   {
    "duration": 5,
    "start_time": "2022-05-22T19:46:12.850Z"
   },
   {
    "duration": 38,
    "start_time": "2022-05-22T19:46:12.857Z"
   },
   {
    "duration": 19,
    "start_time": "2022-05-22T19:46:12.897Z"
   },
   {
    "duration": 42,
    "start_time": "2022-05-22T19:46:12.918Z"
   },
   {
    "duration": 38,
    "start_time": "2022-05-22T19:46:12.962Z"
   },
   {
    "duration": 14,
    "start_time": "2022-05-22T19:46:13.002Z"
   },
   {
    "duration": 6,
    "start_time": "2022-05-22T19:46:13.017Z"
   },
   {
    "duration": 16,
    "start_time": "2022-05-22T19:46:13.024Z"
   },
   {
    "duration": 18,
    "start_time": "2022-05-22T19:46:13.042Z"
   },
   {
    "duration": 49,
    "start_time": "2022-05-22T19:46:48.446Z"
   },
   {
    "duration": 4,
    "start_time": "2022-05-22T19:48:33.926Z"
   },
   {
    "duration": 3,
    "start_time": "2022-05-22T19:48:39.190Z"
   },
   {
    "duration": 181,
    "start_time": "2022-05-22T19:48:39.195Z"
   },
   {
    "duration": 11,
    "start_time": "2022-05-22T19:48:39.379Z"
   },
   {
    "duration": 37,
    "start_time": "2022-05-22T19:48:39.394Z"
   },
   {
    "duration": 6,
    "start_time": "2022-05-22T19:48:39.432Z"
   },
   {
    "duration": 11,
    "start_time": "2022-05-22T19:48:39.440Z"
   },
   {
    "duration": 4,
    "start_time": "2022-05-22T19:48:39.453Z"
   },
   {
    "duration": 58,
    "start_time": "2022-05-22T19:48:39.459Z"
   },
   {
    "duration": 19,
    "start_time": "2022-05-22T19:48:39.519Z"
   },
   {
    "duration": 36,
    "start_time": "2022-05-22T19:48:39.541Z"
   },
   {
    "duration": 61,
    "start_time": "2022-05-22T19:48:39.578Z"
   },
   {
    "duration": 84,
    "start_time": "2022-05-22T19:48:39.641Z"
   },
   {
    "duration": 71,
    "start_time": "2022-05-22T19:48:39.727Z"
   },
   {
    "duration": 38,
    "start_time": "2022-05-22T19:48:39.799Z"
   },
   {
    "duration": 3,
    "start_time": "2022-05-22T19:48:39.840Z"
   },
   {
    "duration": 35,
    "start_time": "2022-05-22T19:48:39.845Z"
   },
   {
    "duration": 65,
    "start_time": "2022-05-22T19:48:39.882Z"
   },
   {
    "duration": 12,
    "start_time": "2022-05-22T19:48:39.949Z"
   },
   {
    "duration": 19,
    "start_time": "2022-05-22T19:48:39.975Z"
   },
   {
    "duration": 8,
    "start_time": "2022-05-22T19:48:39.997Z"
   },
   {
    "duration": 33,
    "start_time": "2022-05-22T19:48:40.007Z"
   },
   {
    "duration": 14,
    "start_time": "2022-05-22T19:48:40.042Z"
   },
   {
    "duration": 37,
    "start_time": "2022-05-22T19:48:40.058Z"
   },
   {
    "duration": 21,
    "start_time": "2022-05-22T19:48:40.098Z"
   },
   {
    "duration": 23,
    "start_time": "2022-05-22T19:48:40.121Z"
   },
   {
    "duration": 15,
    "start_time": "2022-05-22T19:48:40.145Z"
   },
   {
    "duration": 25,
    "start_time": "2022-05-22T19:48:40.162Z"
   },
   {
    "duration": 30,
    "start_time": "2022-05-22T19:48:40.196Z"
   },
   {
    "duration": 20,
    "start_time": "2022-05-22T19:48:40.228Z"
   },
   {
    "duration": 3,
    "start_time": "2022-05-22T19:48:40.252Z"
   },
   {
    "duration": 31,
    "start_time": "2022-05-22T19:48:40.257Z"
   },
   {
    "duration": 17,
    "start_time": "2022-05-22T19:48:40.290Z"
   },
   {
    "duration": 29,
    "start_time": "2022-05-22T19:48:40.308Z"
   },
   {
    "duration": 18,
    "start_time": "2022-05-22T19:48:40.338Z"
   },
   {
    "duration": 25,
    "start_time": "2022-05-22T19:48:40.358Z"
   },
   {
    "duration": 5,
    "start_time": "2022-05-22T19:48:40.385Z"
   },
   {
    "duration": 27,
    "start_time": "2022-05-22T19:48:40.391Z"
   },
   {
    "duration": 11,
    "start_time": "2022-05-22T19:48:40.420Z"
   },
   {
    "duration": 8,
    "start_time": "2022-05-22T19:50:40.861Z"
   },
   {
    "duration": 16,
    "start_time": "2022-05-22T19:56:45.427Z"
   },
   {
    "duration": 37,
    "start_time": "2022-05-22T19:56:50.590Z"
   },
   {
    "duration": 51,
    "start_time": "2022-05-22T19:57:42.145Z"
   },
   {
    "duration": 15,
    "start_time": "2022-05-22T19:58:27.899Z"
   },
   {
    "duration": 41,
    "start_time": "2022-05-22T19:58:31.906Z"
   },
   {
    "duration": 3,
    "start_time": "2022-05-22T19:58:57.093Z"
   },
   {
    "duration": 215,
    "start_time": "2022-05-22T19:58:57.098Z"
   },
   {
    "duration": 6,
    "start_time": "2022-05-22T19:58:57.315Z"
   },
   {
    "duration": 29,
    "start_time": "2022-05-22T19:58:57.323Z"
   },
   {
    "duration": 4,
    "start_time": "2022-05-22T19:58:57.354Z"
   },
   {
    "duration": 11,
    "start_time": "2022-05-22T19:58:57.376Z"
   },
   {
    "duration": 12,
    "start_time": "2022-05-22T19:58:57.389Z"
   },
   {
    "duration": 27,
    "start_time": "2022-05-22T19:58:57.402Z"
   },
   {
    "duration": 18,
    "start_time": "2022-05-22T19:58:57.431Z"
   },
   {
    "duration": 51,
    "start_time": "2022-05-22T19:58:57.451Z"
   },
   {
    "duration": 73,
    "start_time": "2022-05-22T19:58:57.504Z"
   },
   {
    "duration": 69,
    "start_time": "2022-05-22T19:58:57.579Z"
   },
   {
    "duration": 77,
    "start_time": "2022-05-22T19:58:57.649Z"
   },
   {
    "duration": 47,
    "start_time": "2022-05-22T19:58:57.728Z"
   },
   {
    "duration": 4,
    "start_time": "2022-05-22T19:58:57.777Z"
   },
   {
    "duration": 26,
    "start_time": "2022-05-22T19:58:57.782Z"
   },
   {
    "duration": 35,
    "start_time": "2022-05-22T19:58:57.810Z"
   },
   {
    "duration": 10,
    "start_time": "2022-05-22T19:58:57.846Z"
   },
   {
    "duration": 26,
    "start_time": "2022-05-22T19:58:57.857Z"
   },
   {
    "duration": 14,
    "start_time": "2022-05-22T19:58:57.885Z"
   },
   {
    "duration": 20,
    "start_time": "2022-05-22T19:58:57.901Z"
   },
   {
    "duration": 13,
    "start_time": "2022-05-22T19:58:57.922Z"
   },
   {
    "duration": 15,
    "start_time": "2022-05-22T19:58:57.936Z"
   },
   {
    "duration": 35,
    "start_time": "2022-05-22T19:58:57.952Z"
   },
   {
    "duration": 18,
    "start_time": "2022-05-22T19:58:57.989Z"
   },
   {
    "duration": 14,
    "start_time": "2022-05-22T19:58:58.008Z"
   },
   {
    "duration": 7,
    "start_time": "2022-05-22T19:58:58.024Z"
   },
   {
    "duration": 22,
    "start_time": "2022-05-22T19:58:58.033Z"
   },
   {
    "duration": 24,
    "start_time": "2022-05-22T19:58:58.078Z"
   },
   {
    "duration": 4,
    "start_time": "2022-05-22T19:58:58.103Z"
   },
   {
    "duration": 21,
    "start_time": "2022-05-22T19:58:58.109Z"
   },
   {
    "duration": 10,
    "start_time": "2022-05-22T19:58:58.131Z"
   },
   {
    "duration": 49,
    "start_time": "2022-05-22T19:58:58.143Z"
   },
   {
    "duration": 12,
    "start_time": "2022-05-22T19:58:58.193Z"
   },
   {
    "duration": 8,
    "start_time": "2022-05-22T19:58:58.207Z"
   },
   {
    "duration": 4,
    "start_time": "2022-05-22T19:58:58.217Z"
   },
   {
    "duration": 7,
    "start_time": "2022-05-22T19:58:58.222Z"
   },
   {
    "duration": 7,
    "start_time": "2022-05-22T19:58:58.230Z"
   },
   {
    "duration": 47,
    "start_time": "2022-05-22T19:59:38.865Z"
   },
   {
    "duration": 57,
    "start_time": "2022-05-23T11:11:00.141Z"
   }
  ],
  "colab": {
   "collapsed_sections": [
    "E0vqbgi9ay0H",
    "VUC88oWjTJw2"
   ],
   "name": "yandex_music_project.ipynb",
   "provenance": []
  },
  "kernelspec": {
   "display_name": "Python 3 (ipykernel)",
   "language": "python",
   "name": "python3"
  },
  "language_info": {
   "codemirror_mode": {
    "name": "ipython",
    "version": 3
   },
   "file_extension": ".py",
   "mimetype": "text/x-python",
   "name": "python",
   "nbconvert_exporter": "python",
   "pygments_lexer": "ipython3",
   "version": "3.9.7"
  },
  "toc": {
   "base_numbering": 1,
   "nav_menu": {},
   "number_sections": true,
   "sideBar": true,
   "skip_h1_title": true,
   "title_cell": "Table of Contents",
   "title_sidebar": "Contents",
   "toc_cell": false,
   "toc_position": {},
   "toc_section_display": true,
   "toc_window_display": true
  }
 },
 "nbformat": 4,
 "nbformat_minor": 1
}
